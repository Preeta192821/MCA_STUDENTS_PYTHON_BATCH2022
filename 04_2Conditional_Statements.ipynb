{
 "cells": [
  {
   "cell_type": "markdown",
   "metadata": {},
   "source": [
    "### Conditional Statements\n",
    "\n",
    "* Keywords:\n",
    "    * if\n",
    "    * else\n",
    "    * elif -> else if ( To check for multiple conditions )\n",
    "    \n",
    "* Blocks:\n",
    "    * if block\n",
    "    * if else block\n",
    "    * nested if else block\n",
    "    * if elif block\n",
    "    * if elif else block"
   ]
  },
  {
   "cell_type": "markdown",
   "metadata": {},
   "source": [
    "#### Syntax\n",
    "\n",
    "if condition:\n",
    "\n",
    "    Body of if\n",
    "   \n",
    "elif condition:\n",
    "\n",
    "    Body of elif\n",
    "    \n",
    "else:\n",
    "\n",
    "    Body of else"
   ]
  },
  {
   "cell_type": "code",
   "execution_count": 4,
   "metadata": {},
   "outputs": [
    {
     "name": "stdout",
     "output_type": "stream",
     "text": [
      "Enter a number : 5\n",
      "Further Code\n"
     ]
    }
   ],
   "source": [
    "# if block\n",
    "\n",
    "a = int(input(\"Enter a number : \"))\n",
    "\n",
    "if a%2 == 0:\n",
    "    print(\"You have entered an even number\")\n",
    "print(\"Further Code\")"
   ]
  },
  {
   "cell_type": "code",
   "execution_count": 3,
   "metadata": {},
   "outputs": [
    {
     "name": "stdout",
     "output_type": "stream",
     "text": [
      "Enter a number : 123\n",
      "You have entered an odd number\n",
      "Further Code\n"
     ]
    }
   ],
   "source": [
    "##### if else block\n",
    "\n",
    "a = int(input(\"Enter a number : \"))\n",
    "\n",
    "if a%2 == 0:\n",
    "    print(\"You have entered an even number\")\n",
    "else:\n",
    "    print('You have entered an odd number')\n",
    "print(\"Further Code\")"
   ]
  },
  {
   "cell_type": "code",
   "execution_count": 4,
   "metadata": {},
   "outputs": [
    {
     "name": "stdout",
     "output_type": "stream",
     "text": [
      "Enter a number : 12\n",
      "12 is divisible by both 2 and 3\n"
     ]
    }
   ],
   "source": [
    "## Nested if-else block\n",
    "\n",
    "a = int(input(\"Enter a number : \"))\n",
    "\n",
    "# Check whether the number user entered is divisibly by:\n",
    "# Both 2 and 3\n",
    "# Only 2\n",
    "# Only 3\n",
    "# Neither 2 nor 3\n",
    "\n",
    "if a%2 == 0:\n",
    "    if a%3 == 0:\n",
    "        print(a,'is divisible by both 2 and 3')\n",
    "    else:\n",
    "        print(a,'is divisible by only 2')\n",
    "else:\n",
    "    if a%3 == 0:\n",
    "        print(a,'is divisble by only 3')\n",
    "    else:\n",
    "        print(a,'is divisible by neither 2 nor 3')"
   ]
  },
  {
   "cell_type": "code",
   "execution_count": 5,
   "metadata": {},
   "outputs": [
    {
     "name": "stdout",
     "output_type": "stream",
     "text": [
      "Enter a number : 12\n",
      "12 is divisible by both 2 and 3\n"
     ]
    }
   ],
   "source": [
    "# if elif else block\n",
    "\n",
    "a = int(input(\"Enter a number : \"))\n",
    "\n",
    "if a%2 == 0 and a%3 == 0:\n",
    "    print(a,'is divisible by both 2 and 3')\n",
    "elif a%2 == 0:\n",
    "    print(a,'is divisible by only 2')\n",
    "elif a%3 == 0:\n",
    "    print(a,'is divisble by only 3')\n",
    "else:\n",
    "    print(a,'is divisible by neither 2 nor 3')"
   ]
  },
  {
   "cell_type": "code",
   "execution_count": 6,
   "metadata": {},
   "outputs": [
    {
     "name": "stdout",
     "output_type": "stream",
     "text": [
      "IF\n",
      "ELIF 2\n"
     ]
    }
   ],
   "source": [
    "a = 10\n",
    "b = 20\n",
    "c = 30\n",
    "d = 40\n",
    "\n",
    "if a+ b == c:\n",
    "    print(\"IF\")\n",
    "elif c>b:\n",
    "    print(\"ELIF 1\")\n",
    "if d == 40:\n",
    "    print(\"ELIF 2\")\n",
    "else:\n",
    "    print(\"ELSE\")"
   ]
  },
  {
   "cell_type": "code",
   "execution_count": 7,
   "metadata": {},
   "outputs": [
    {
     "name": "stdout",
     "output_type": "stream",
     "text": [
      "IF\n",
      "ELIF 1\n",
      "ELIF 2\n"
     ]
    }
   ],
   "source": [
    "a = 10\n",
    "b = 20\n",
    "c = 30\n",
    "d = 40\n",
    "\n",
    "if a+ b == c:\n",
    "    print(\"IF\")\n",
    "if c>b:\n",
    "    print(\"ELIF 1\")\n",
    "if d == 40:\n",
    "    print(\"ELIF 2\")\n",
    "else:\n",
    "    print(\"ELSE\")"
   ]
  },
  {
   "cell_type": "code",
   "execution_count": 5,
   "metadata": {},
   "outputs": [
    {
     "name": "stdout",
     "output_type": "stream",
     "text": [
      "NO\n"
     ]
    }
   ],
   "source": [
    "a = 0\n",
    "\n",
    "if a:\n",
    "    print('YES')\n",
    "else:\n",
    "    print('NO')"
   ]
  },
  {
   "cell_type": "code",
   "execution_count": 13,
   "metadata": {},
   "outputs": [
    {
     "name": "stdout",
     "output_type": "stream",
     "text": [
      "YES\n"
     ]
    }
   ],
   "source": [
    "a = 1\n",
    "\n",
    "if a:\n",
    "    print('YES')\n",
    "else:\n",
    "    print('NO')"
   ]
  },
  {
   "cell_type": "code",
   "execution_count": 9,
   "metadata": {},
   "outputs": [
    {
     "name": "stdout",
     "output_type": "stream",
     "text": [
      "YES\n"
     ]
    }
   ],
   "source": [
    "a = -1\n",
    "\n",
    "if a:\n",
    "    print('YES')\n",
    "else:\n",
    "    print('NO')"
   ]
  },
  {
   "cell_type": "code",
   "execution_count": 14,
   "metadata": {},
   "outputs": [
    {
     "name": "stdout",
     "output_type": "stream",
     "text": [
      "YES\n"
     ]
    }
   ],
   "source": [
    "#a = ''\n",
    "a = '0'\n",
    "\n",
    "if a:\n",
    "    print('YES')\n",
    "else:\n",
    "    print('NO')"
   ]
  },
  {
   "cell_type": "code",
   "execution_count": 11,
   "metadata": {},
   "outputs": [
    {
     "name": "stdout",
     "output_type": "stream",
     "text": [
      "YES\n"
     ]
    }
   ],
   "source": [
    "a = [ '',-1 ]\n",
    "\n",
    "if a[1]:\n",
    "    print('YES')\n",
    "else:\n",
    "    print('NO')"
   ]
  },
  {
   "cell_type": "code",
   "execution_count": null,
   "metadata": {},
   "outputs": [],
   "source": []
  }
 ],
 "metadata": {
  "kernelspec": {
   "display_name": "Python 3",
   "language": "python",
   "name": "python3"
  },
  "language_info": {
   "codemirror_mode": {
    "name": "ipython",
    "version": 3
   },
   "file_extension": ".py",
   "mimetype": "text/x-python",
   "name": "python",
   "nbconvert_exporter": "python",
   "pygments_lexer": "ipython3",
   "version": "3.7.4"
  }
 },
 "nbformat": 4,
 "nbformat_minor": 2
}
