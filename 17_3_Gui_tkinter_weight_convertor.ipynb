{
 "cells": [
  {
   "cell_type": "code",
   "execution_count": 1,
   "metadata": {},
   "outputs": [],
   "source": [
    "from tkinter import *\n",
    "\n",
    "window=Tk()\n",
    "\n",
    "def from_kg():\n",
    "    gram=str(float(e2_value.get())*1000) + ' GRAMS'\n",
    "    pound=str(float(e2_value.get())*2.20462) + ' POUND'\n",
    "    ounce=str(float(e2_value.get())*35.274) + ' OUNCE'\n",
    "    t1.delete(\"1.0\", END)\n",
    "    t1.insert(END,gram)\n",
    "    t2.delete(\"1.0\", END)\n",
    "    t2.insert(END,pound)\n",
    "    t3.delete(\"1.0\", END)\n",
    "    t3.insert(END,ounce)\n",
    "\n",
    "e1=Label(window,text=\"Kg\")\n",
    "e1.grid(row=0,column=0)\n",
    "\n",
    "e2_value=StringVar()\n",
    "e2=Entry(window,textvariable=e2_value)\n",
    "e2.grid(row=0,column=1)\n",
    "\n",
    "b1=Button(window,text=\"Convert\",command=from_kg)\n",
    "b1.grid(row=0,column=2)\n",
    "\n",
    "t1=Text(window,height=1,width=20)\n",
    "t1.grid(row=1,column=0)\n",
    "\n",
    "t2=Text(window,height=1,width=20)\n",
    "t2.grid(row=1,column=1)\n",
    "\n",
    "t3=Text(window,height=1,width=20)\n",
    "t3.grid(row=1,column=2)\n",
    "\n",
    "window.mainloop()"
   ]
  },
  {
   "cell_type": "code",
   "execution_count": null,
   "metadata": {},
   "outputs": [],
   "source": []
  }
 ],
 "metadata": {
  "kernelspec": {
   "display_name": "Python 3",
   "language": "python",
   "name": "python3"
  },
  "language_info": {
   "codemirror_mode": {
    "name": "ipython",
    "version": 3
   },
   "file_extension": ".py",
   "mimetype": "text/x-python",
   "name": "python",
   "nbconvert_exporter": "python",
   "pygments_lexer": "ipython3",
   "version": "3.7.3"
  }
 },
 "nbformat": 4,
 "nbformat_minor": 2
}
