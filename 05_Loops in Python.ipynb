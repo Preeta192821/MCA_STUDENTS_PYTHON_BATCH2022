{
 "cells": [
  {
   "cell_type": "markdown",
   "metadata": {},
   "source": [
    "## Loops in Python\n",
    "\n",
    "* WHILE -> When we dont know the number of times we want to run the loop\n",
    "* FOR -> WHen we know the number of times we want to run the loop"
   ]
  },
  {
   "cell_type": "markdown",
   "metadata": {},
   "source": [
    "## While Loop\n",
    "\n",
    "#### Syntax\n",
    "\n",
    "while condition:\n",
    "\n",
    "    Body of the Loop"
   ]
  },
  {
   "cell_type": "code",
   "execution_count": 1,
   "metadata": {},
   "outputs": [
    {
     "name": "stdout",
     "output_type": "stream",
     "text": [
      "1\n",
      "2\n",
      "3\n",
      "4\n",
      "5\n",
      "6\n",
      "7\n",
      "8\n",
      "9\n",
      "10\n"
     ]
    }
   ],
   "source": [
    "a = 1\n",
    "\n",
    "while a<=10:\n",
    "    print(a)\n",
    "    a += 1# a = a+1"
   ]
  },
  {
   "cell_type": "code",
   "execution_count": 4,
   "metadata": {},
   "outputs": [
    {
     "name": "stdout",
     "output_type": "stream",
     "text": [
      "Help on built-in function print in module builtins:\n",
      "\n",
      "print(...)\n",
      "    print(value, ..., sep=' ', end='\\n', file=sys.stdout, flush=False)\n",
      "    \n",
      "    Prints the values to a stream, or to sys.stdout by default.\n",
      "    Optional keyword arguments:\n",
      "    file:  a file-like object (stream); defaults to the current sys.stdout.\n",
      "    sep:   string inserted between values, default a space.\n",
      "    end:   string appended after the last value, default a newline.\n",
      "    flush: whether to forcibly flush the stream.\n",
      "\n"
     ]
    }
   ],
   "source": [
    "help(print)"
   ]
  },
  {
   "cell_type": "code",
   "execution_count": 5,
   "metadata": {},
   "outputs": [
    {
     "name": "stdout",
     "output_type": "stream",
     "text": [
      "10 20 30\n",
      "10->20->30\n"
     ]
    }
   ],
   "source": [
    "print(10,20,30)\n",
    "print(10,20,30,sep='->')"
   ]
  },
  {
   "cell_type": "code",
   "execution_count": 2,
   "metadata": {},
   "outputs": [
    {
     "name": "stdout",
     "output_type": "stream",
     "text": [
      "HELLO\n",
      "WORLD\n",
      "BYE\n"
     ]
    }
   ],
   "source": [
    "print('HELLO')\n",
    "print(\"WORLD\")\n",
    "print('BYE')"
   ]
  },
  {
   "cell_type": "code",
   "execution_count": 3,
   "metadata": {},
   "outputs": [
    {
     "name": "stdout",
     "output_type": "stream",
     "text": [
      "HELLO WORLD\n",
      "BYE\n"
     ]
    }
   ],
   "source": [
    "print('HELLO',end=' ')\n",
    "print(\"WORLD\")\n",
    "print('BYE')"
   ]
  },
  {
   "cell_type": "code",
   "execution_count": 2,
   "metadata": {},
   "outputs": [
    {
     "name": "stdout",
     "output_type": "stream",
     "text": [
      "1 2 3 4 5 6 7 8 9 10 \n",
      "Outside Loop\n"
     ]
    }
   ],
   "source": [
    "a = 1\n",
    "\n",
    "while a<=10:\n",
    "    print(a,end=' ')\n",
    "    a += 1# a = a+1\n",
    "print()\n",
    "print(\"Outside Loop\")"
   ]
  },
  {
   "cell_type": "code",
   "execution_count": 9,
   "metadata": {},
   "outputs": [
    {
     "name": "stdout",
     "output_type": "stream",
     "text": [
      "Hi Rahul Arora How are you?\n",
      "Hi Rahul Arora How are you?\n"
     ]
    }
   ],
   "source": [
    "\n",
    "first = 'Rahul'\n",
    "last = 'Arora'\n",
    "\n",
    "print('Hi',first,last,'How are you?')\n",
    "\n",
    "print('Hi {} {} How are you?'.format(first,last))"
   ]
  },
  {
   "cell_type": "code",
   "execution_count": 4,
   "metadata": {},
   "outputs": [
    {
     "name": "stdout",
     "output_type": "stream",
     "text": [
      "5 * 6 = 30\n",
      "5 * 6 = 30\n"
     ]
    }
   ],
   "source": [
    "a = 5\n",
    "b = 6\n",
    "\n",
    "print(a,\"*\",b,'=',a*b)\n",
    "print('{} * {} = {}'.format(a,b,a*b))"
   ]
  },
  {
   "cell_type": "code",
   "execution_count": 11,
   "metadata": {},
   "outputs": [
    {
     "name": "stdout",
     "output_type": "stream",
     "text": [
      "Enter a Number : 5\n",
      "5 * 1 = 5\n",
      "5 * 2 = 10\n",
      "5 * 3 = 15\n",
      "5 * 4 = 20\n",
      "5 * 5 = 25\n",
      "5 * 6 = 30\n",
      "5 * 7 = 35\n",
      "5 * 8 = 40\n",
      "5 * 9 = 45\n",
      "5 * 10 = 50\n"
     ]
    }
   ],
   "source": [
    "# Printing the Table of a Number\n",
    "n = int(input(\"Enter a Number : \"))\n",
    "a = 1\n",
    "\n",
    "while a<=10:\n",
    "    print('{} * {} = {}'.format(n,a,n*a))\n",
    "    a += 1"
   ]
  },
  {
   "cell_type": "markdown",
   "metadata": {},
   "source": [
    "## Variable asignment"
   ]
  },
  {
   "cell_type": "code",
   "execution_count": 12,
   "metadata": {},
   "outputs": [
    {
     "name": "stdout",
     "output_type": "stream",
     "text": [
      "5\n",
      "5 5\n",
      "10 20 30\n",
      "10 20\n",
      "20 10\n"
     ]
    }
   ],
   "source": [
    "a = 5\n",
    "print(a)\n",
    "\n",
    "a=b=5\n",
    "print(a,b)\n",
    "\n",
    "a,b,c = 10,20,30\n",
    "print(a,b,c)\n",
    "\n",
    "print(a,b)\n",
    "a,b = b,a\n",
    "print(a,b)"
   ]
  },
  {
   "cell_type": "code",
   "execution_count": 13,
   "metadata": {},
   "outputs": [
    {
     "name": "stdout",
     "output_type": "stream",
     "text": [
      "1 2\n",
      "2 3\n"
     ]
    }
   ],
   "source": [
    "a = 1\n",
    "b = 2\n",
    "\n",
    "print(a,b)\n",
    "\n",
    "c = a+b\n",
    "a = b\n",
    "b = c\n",
    "print(a,b)"
   ]
  },
  {
   "cell_type": "code",
   "execution_count": 14,
   "metadata": {},
   "outputs": [
    {
     "name": "stdout",
     "output_type": "stream",
     "text": [
      "1 2\n",
      "2 3\n"
     ]
    }
   ],
   "source": [
    "a = 1\n",
    "b = 2\n",
    "\n",
    "print(a,b)\n",
    "\n",
    "a,b = b,a+b\n",
    "print(a,b)"
   ]
  },
  {
   "cell_type": "code",
   "execution_count": 15,
   "metadata": {},
   "outputs": [
    {
     "name": "stdout",
     "output_type": "stream",
     "text": [
      "0 1 1 2 3 5 8 13 21 34 55 89 144 233 377 610 987 "
     ]
    }
   ],
   "source": [
    "# Printing all numbers in fibonacci series till 1000\n",
    "\n",
    "a,b = 0,1\n",
    "\n",
    "while a<=1000:\n",
    "    print(a,end=' ')\n",
    "    a,b = b,a+b\n",
    "    "
   ]
  },
  {
   "cell_type": "code",
   "execution_count": 7,
   "metadata": {},
   "outputs": [
    {
     "name": "stdout",
     "output_type": "stream",
     "text": [
      "5\n",
      "5\n"
     ]
    }
   ],
   "source": [
    "# Counitng the number of digits in a number\n",
    "a = 12345\n",
    "# Without Loop\n",
    "print(len(str(a)))\n",
    "# With Loop\n",
    "b = a\n",
    "n = 0\n",
    "while b:\n",
    "    #print(b)\n",
    "    b = b//10\n",
    "    n +=1\n",
    "print(n)"
   ]
  },
  {
   "cell_type": "markdown",
   "metadata": {},
   "source": [
    "## For LOOP\n",
    "\n",
    "#### Syntax\n",
    "\n",
    "for variable in sequence:\n",
    "\n",
    "    Body of the Loop"
   ]
  },
  {
   "cell_type": "code",
   "execution_count": 19,
   "metadata": {},
   "outputs": [
    {
     "name": "stdout",
     "output_type": "stream",
     "text": [
      "10\n",
      "20\n",
      "30\n"
     ]
    }
   ],
   "source": [
    "for i in [10,20,30]:\n",
    "    print(i)"
   ]
  },
  {
   "cell_type": "code",
   "execution_count": 20,
   "metadata": {},
   "outputs": [
    {
     "name": "stdout",
     "output_type": "stream",
     "text": [
      "P\n",
      "Y\n",
      "T\n",
      "H\n",
      "O\n",
      "N\n"
     ]
    }
   ],
   "source": [
    "for j in 'PYTHON':\n",
    "    print(j)"
   ]
  },
  {
   "cell_type": "code",
   "execution_count": 21,
   "metadata": {},
   "outputs": [
    {
     "name": "stdout",
     "output_type": "stream",
     "text": [
      "HELLO\n",
      "H\n",
      "E\n",
      "L\n",
      "L\n",
      "O\n",
      "WORLD\n",
      "W\n",
      "O\n",
      "R\n",
      "L\n",
      "D\n",
      "19\n"
     ]
    }
   ],
   "source": [
    "for i in ['HELLO','WORLD',19]:\n",
    "    print(i)\n",
    "    if type(i) == str:\n",
    "        for j in i:\n",
    "            print(j)"
   ]
  },
  {
   "cell_type": "code",
   "execution_count": 22,
   "metadata": {},
   "outputs": [
    {
     "name": "stdout",
     "output_type": "stream",
     "text": [
      "10 A\n",
      "10 B\n",
      "20 A\n",
      "20 B\n",
      "30 A\n",
      "30 B\n"
     ]
    }
   ],
   "source": [
    "for i in [10,20,30]:\n",
    "    for j in ['A','B']:\n",
    "        print(i,j)"
   ]
  },
  {
   "cell_type": "markdown",
   "metadata": {},
   "source": [
    "## Range Function\n",
    "\n",
    "####  Syntax\n",
    "\n",
    "range(start,stop,step)\n",
    "\n",
    "* Step is by default 1\n",
    "* Start is by default 0 \n",
    "* Stop is mandatory and is not included in the range"
   ]
  },
  {
   "cell_type": "code",
   "execution_count": 23,
   "metadata": {},
   "outputs": [
    {
     "name": "stdout",
     "output_type": "stream",
     "text": [
      "range(0, 5)\n",
      "range(0, 5)\n",
      "range(1, 5)\n",
      "range(1, 5, 2)\n"
     ]
    }
   ],
   "source": [
    "a = range(0,5,1)\n",
    "print(a)\n",
    "a = range(5)\n",
    "print(a)\n",
    "a = range(1,5)\n",
    "print(a)\n",
    "a = range(1,5,2)\n",
    "print(a)"
   ]
  },
  {
   "cell_type": "code",
   "execution_count": 24,
   "metadata": {},
   "outputs": [
    {
     "name": "stdout",
     "output_type": "stream",
     "text": [
      "[0, 1, 2, 3, 4]\n",
      "[0, 1, 2, 3, 4]\n",
      "[1, 2, 3, 4]\n",
      "[1, 3]\n"
     ]
    }
   ],
   "source": [
    "a = list(range(0,5,1))\n",
    "print(a)\n",
    "a = list(range(5))\n",
    "print(a)\n",
    "a = list(range(1,5))\n",
    "print(a)\n",
    "a = list(range(1,5,2))\n",
    "print(a)"
   ]
  },
  {
   "cell_type": "code",
   "execution_count": 25,
   "metadata": {},
   "outputs": [
    {
     "name": "stdout",
     "output_type": "stream",
     "text": [
      "0\n",
      "1\n",
      "2\n",
      "3\n",
      "4\n"
     ]
    }
   ],
   "source": [
    "for i in [0,1,2,3,4]:\n",
    "    print(i)"
   ]
  },
  {
   "cell_type": "code",
   "execution_count": 26,
   "metadata": {},
   "outputs": [
    {
     "name": "stdout",
     "output_type": "stream",
     "text": [
      "0\n",
      "1\n",
      "2\n",
      "3\n",
      "4\n"
     ]
    }
   ],
   "source": [
    "for i in range(5):\n",
    "    print(i)"
   ]
  },
  {
   "cell_type": "code",
   "execution_count": 41,
   "metadata": {},
   "outputs": [
    {
     "name": "stdout",
     "output_type": "stream",
     "text": [
      "P\n",
      "Y\n",
      "T\n",
      "H\n",
      "O\n",
      "N\n",
      "0 P\n",
      "1 Y\n",
      "2 T\n",
      "3 H\n",
      "4 O\n",
      "5 N\n"
     ]
    }
   ],
   "source": [
    "a = 'PYTHON'\n",
    "for i in a:\n",
    "    print(i)\n",
    "    \n",
    "for i in range(len(a)):\n",
    "    print(i,a[i])"
   ]
  },
  {
   "cell_type": "code",
   "execution_count": 27,
   "metadata": {},
   "outputs": [
    {
     "name": "stdout",
     "output_type": "stream",
     "text": [
      "0 1 1 2 3 5 8 13 21 34 "
     ]
    }
   ],
   "source": [
    "# Print first ten terms of fibonacci series\n",
    "a,b = 0,1\n",
    "\n",
    "for i in range(10):\n",
    "    print(a,end=' ')\n",
    "    a,b = b,a+b"
   ]
  },
  {
   "cell_type": "markdown",
   "metadata": {},
   "source": [
    "## Loop Control Statements\n",
    "\n",
    "* pass  ( Placeholder , No operation )\n",
    "* break\n",
    "* continue"
   ]
  },
  {
   "cell_type": "code",
   "execution_count": 29,
   "metadata": {},
   "outputs": [
    {
     "name": "stdout",
     "output_type": "stream",
     "text": [
      "10 is not avaiable\n"
     ]
    }
   ],
   "source": [
    "# pass\n",
    "\n",
    "a = 10\n",
    "\n",
    "if a >50:\n",
    "    pass\n",
    "else:\n",
    "    print(a,'is not avaiable')"
   ]
  },
  {
   "cell_type": "code",
   "execution_count": 30,
   "metadata": {},
   "outputs": [
    {
     "name": "stdout",
     "output_type": "stream",
     "text": [
      "4\n"
     ]
    }
   ],
   "source": [
    "for i in range(5):\n",
    "    pass\n",
    "print(i)"
   ]
  },
  {
   "cell_type": "code",
   "execution_count": 31,
   "metadata": {},
   "outputs": [
    {
     "name": "stdout",
     "output_type": "stream",
     "text": [
      "0\n",
      "1\n",
      "2\n",
      "3\n"
     ]
    }
   ],
   "source": [
    "# Break\n",
    "\n",
    "for i in range(7):\n",
    "    if i == 4:\n",
    "        break\n",
    "    print(i)"
   ]
  },
  {
   "cell_type": "code",
   "execution_count": 32,
   "metadata": {},
   "outputs": [
    {
     "name": "stdout",
     "output_type": "stream",
     "text": [
      "0\n",
      "1\n",
      "2\n",
      "3\n",
      "5\n",
      "6\n"
     ]
    }
   ],
   "source": [
    "# Continue \n",
    "for i in range(7):\n",
    "    if i == 4:\n",
    "        continue\n",
    "    print(i)\n"
   ]
  },
  {
   "cell_type": "code",
   "execution_count": 33,
   "metadata": {},
   "outputs": [
    {
     "name": "stdout",
     "output_type": "stream",
     "text": [
      "[112345, 756325, 452512]\n"
     ]
    }
   ],
   "source": [
    "a = [112345,546,756325,21421511,452512]\n",
    "b = []\n",
    "\n",
    "for i in a:\n",
    "    if len(str(i)) !=6:\n",
    "        continue\n",
    "    b.append(i)\n",
    "print(b)"
   ]
  },
  {
   "cell_type": "markdown",
   "metadata": {},
   "source": [
    "### Nested for Loop"
   ]
  },
  {
   "cell_type": "code",
   "execution_count": 1,
   "metadata": {},
   "outputs": [
    {
     "name": "stdout",
     "output_type": "stream",
     "text": [
      "i: 0\n",
      "\tj: 0\n",
      "\tj: 1\n",
      "\tj: 2\n",
      "i: 1\n",
      "\tj: 0\n",
      "\tj: 1\n",
      "\tj: 2\n"
     ]
    }
   ],
   "source": [
    "for i in range(2):\n",
    "    print('i:',i)\n",
    "    for j in range(3):\n",
    "        print('\\tj:',j)"
   ]
  },
  {
   "cell_type": "markdown",
   "metadata": {},
   "source": [
    "## Loop with an else statement\n",
    "\n",
    "An optional loop completion else statement can be added to check if the loop ran its whole length and did not encounter a break in between.\n",
    "\n",
    "#### Syntax\n",
    "\n",
    "for variable in sequence :\n",
    "\n",
    "    Body of the Loop\n",
    "    \n",
    "else:\n",
    "\n",
    "\n",
    "    Body of else\n",
    "    \n",
    "    \n",
    "    \n",
    "Further Code"
   ]
  },
  {
   "cell_type": "code",
   "execution_count": 1,
   "metadata": {},
   "outputs": [
    {
     "name": "stdout",
     "output_type": "stream",
     "text": [
      "0\n",
      "1\n",
      "2\n",
      "3\n",
      "4\n",
      "ELSE\n",
      "FURTHER CODE\n"
     ]
    }
   ],
   "source": [
    "for i in range(5):\n",
    "    print(i)\n",
    "else:\n",
    "    print(\"ELSE\")\n",
    "print(\"FURTHER CODE\")"
   ]
  },
  {
   "cell_type": "code",
   "execution_count": 35,
   "metadata": {},
   "outputs": [
    {
     "name": "stdout",
     "output_type": "stream",
     "text": [
      "0\n",
      "1\n",
      "2\n",
      "FURTHER CODE\n"
     ]
    }
   ],
   "source": [
    "for i in range(5):\n",
    "    if i == 3:\n",
    "        break\n",
    "    print(i)\n",
    "else:\n",
    "    print(\"ELSE\")\n",
    "print(\"FURTHER CODE\")"
   ]
  },
  {
   "cell_type": "code",
   "execution_count": 36,
   "metadata": {},
   "outputs": [
    {
     "name": "stdout",
     "output_type": "stream",
     "text": [
      "0\n",
      "1\n",
      "2\n",
      "3\n",
      "4\n",
      "ELSE\n",
      "FURTHER CODE\n"
     ]
    }
   ],
   "source": [
    "for i in range(5):\n",
    "    if i == 5:\n",
    "        break\n",
    "    print(i)\n",
    "else:\n",
    "    print(\"ELSE\")\n",
    "print(\"FURTHER CODE\")"
   ]
  },
  {
   "cell_type": "markdown",
   "metadata": {},
   "source": [
    "### Usage of for else"
   ]
  },
  {
   "cell_type": "code",
   "execution_count": 37,
   "metadata": {},
   "outputs": [
    {
     "name": "stdout",
     "output_type": "stream",
     "text": [
      "Enter a number : 23\n",
      "23 is Prime\n"
     ]
    }
   ],
   "source": [
    "# Prime Number COde\n",
    "\n",
    "n = int(input(\"Enter a number : \"))\n",
    "flag = 0\n",
    "for i in range(2,n):\n",
    "    if n%i == 0:\n",
    "        flag = 1\n",
    "        break\n",
    "if flag == 0:\n",
    "    print(n,'is Prime')\n",
    "else:\n",
    "    print(n,'is not Prime')"
   ]
  },
  {
   "cell_type": "code",
   "execution_count": 38,
   "metadata": {},
   "outputs": [
    {
     "name": "stdout",
     "output_type": "stream",
     "text": [
      "Enter a number : 23\n",
      "23 is Prime\n"
     ]
    }
   ],
   "source": [
    "# Prime Number COde\n",
    "\n",
    "n = int(input(\"Enter a number : \"))\n",
    "\n",
    "for i in range(2,n//2 + 1):\n",
    "    if n%i == 0:\n",
    "        print(n,'is not Prime')\n",
    "        break\n",
    "else:\n",
    "    print(n,'is Prime')"
   ]
  },
  {
   "cell_type": "code",
   "execution_count": 39,
   "metadata": {},
   "outputs": [
    {
     "name": "stdout",
     "output_type": "stream",
     "text": [
      "2\n",
      "3\n",
      "5\n",
      "7\n",
      "11\n",
      "13\n",
      "17\n",
      "19\n"
     ]
    }
   ],
   "source": [
    "# Prime numbers within a range\n",
    "\n",
    "low = 2\n",
    "high = 20\n",
    "\n",
    "for n in range(low, high + 1):\n",
    "    for i in range(2,n//2 +1):\n",
    "        if n%i == 0:\n",
    "            break\n",
    "    else:\n",
    "        print(n)"
   ]
  },
  {
   "cell_type": "code",
   "execution_count": 40,
   "metadata": {},
   "outputs": [
    {
     "name": "stdout",
     "output_type": "stream",
     "text": [
      "[2, 3, 5, 7, 11, 13, 17, 19]\n"
     ]
    }
   ],
   "source": [
    "\n",
    "low = 2\n",
    "high = 20\n",
    "primes = []\n",
    "for n in range(low, high + 1):\n",
    "    for i in range(2,n//2 +1):\n",
    "        if n%i == 0:\n",
    "            break\n",
    "    else:\n",
    "        primes.append(n)\n",
    "print(primes)"
   ]
  },
  {
   "cell_type": "markdown",
   "metadata": {},
   "source": [
    "### List Comprehension\n",
    "\n",
    "\n",
    "#### Syntax\n",
    "\n",
    "[expression for vairable in sequence]\n",
    "\n",
    "[expression for variable in sequence if condition filetering]\n",
    "\n",
    "[expression if condtion else expression for varaible in sequence]"
   ]
  },
  {
   "cell_type": "code",
   "execution_count": 42,
   "metadata": {},
   "outputs": [
    {
     "name": "stdout",
     "output_type": "stream",
     "text": [
      "[0, 1, 2, 3, 4]\n"
     ]
    }
   ],
   "source": [
    "a = []\n",
    "for i in range(5):\n",
    "    a.append(i)\n",
    "print(a)"
   ]
  },
  {
   "cell_type": "code",
   "execution_count": 43,
   "metadata": {},
   "outputs": [
    {
     "name": "stdout",
     "output_type": "stream",
     "text": [
      "[0, 1, 2, 3, 4]\n"
     ]
    }
   ],
   "source": [
    "# Using List comprehension (LC)\n",
    "\n",
    "a = [i for i in range(5)]\n",
    "print(a)"
   ]
  },
  {
   "cell_type": "code",
   "execution_count": 44,
   "metadata": {},
   "outputs": [
    {
     "name": "stdout",
     "output_type": "stream",
     "text": [
      "[1, 2, 3, 4]\n"
     ]
    }
   ],
   "source": [
    "a = ['1', '2', '3', '4']\n",
    "for i in range(len(a)):\n",
    "    a[i] = int(a[i])\n",
    "print(a)"
   ]
  },
  {
   "cell_type": "code",
   "execution_count": 45,
   "metadata": {},
   "outputs": [
    {
     "name": "stdout",
     "output_type": "stream",
     "text": [
      "[1, 2, 3, 4]\n"
     ]
    }
   ],
   "source": [
    "# Using LC\n",
    "a = ['1', '2', '3', '4']\n",
    "a = [int(i) for i in a]\n",
    "print(a)"
   ]
  },
  {
   "cell_type": "code",
   "execution_count": 46,
   "metadata": {},
   "outputs": [
    {
     "name": "stdout",
     "output_type": "stream",
     "text": [
      "['1285  303         004  9929644331       09/12 10:38', '1314  303         004  9414057679       09/12 10:58', '1487  303         004  9001420340       09/12 12:19']\n",
      "[['1285', '303', '004', '9929644331', '09/12', '10:38'], ['1314', '303', '004', '9414057679', '09/12', '10:58'], ['1487', '303', '004', '9001420340', '09/12', '12:19']]\n",
      "╒══════╤═════╤═════╤════════════╤═══════╤═══════╕\n",
      "│ 1285 │ 303 │ 004 │ 9929644331 │ 09/12 │ 10:38 │\n",
      "├──────┼─────┼─────┼────────────┼───────┼───────┤\n",
      "│ 1314 │ 303 │ 004 │ 9414057679 │ 09/12 │ 10:58 │\n",
      "├──────┼─────┼─────┼────────────┼───────┼───────┤\n",
      "│ 1487 │ 303 │ 004 │ 9001420340 │ 09/12 │ 12:19 │\n",
      "╘══════╧═════╧═════╧════════════╧═══════╧═══════╛\n"
     ]
    }
   ],
   "source": [
    "a = [\n",
    "    '\\n',\n",
    "    '>d crallext 0912\\n',\n",
    "    'SYNTEL NEOS 160  Ver 0.8   Call Record',\n",
    "    '1285  303         004  9929644331       09/12 10:38',\n",
    "    '1314  303         004  9414057679       09/12 10:58',\n",
    "    '1487  303         004  9001420340       09/12 12:19',\n",
    "]\n",
    "\n",
    "b = []\n",
    "for i in a:\n",
    "    if i[0].isdigit():\n",
    "        b.append(i)\n",
    "print(b)\n",
    "\n",
    "for i in range(len(b)):\n",
    "    b[i] = b[i].split()\n",
    "print(b)\n",
    "#pip install tabulate\n",
    "from tabulate import tabulate\n",
    "print(tabulate(b,tablefmt='fancy_grid'))"
   ]
  },
  {
   "cell_type": "code",
   "execution_count": 47,
   "metadata": {},
   "outputs": [
    {
     "name": "stdout",
     "output_type": "stream",
     "text": [
      "['1285  303         004  9929644331       09/12 10:38', '1314  303         004  9414057679       09/12 10:58', '1487  303         004  9001420340       09/12 12:19']\n",
      "[['1285', '303', '004', '9929644331', '09/12', '10:38'], ['1314', '303', '004', '9414057679', '09/12', '10:58'], ['1487', '303', '004', '9001420340', '09/12', '12:19']]\n",
      "╒══════╤═════╤═════╤════════════╤═══════╤═══════╕\n",
      "│ 1285 │ 303 │ 004 │ 9929644331 │ 09/12 │ 10:38 │\n",
      "├──────┼─────┼─────┼────────────┼───────┼───────┤\n",
      "│ 1314 │ 303 │ 004 │ 9414057679 │ 09/12 │ 10:58 │\n",
      "├──────┼─────┼─────┼────────────┼───────┼───────┤\n",
      "│ 1487 │ 303 │ 004 │ 9001420340 │ 09/12 │ 12:19 │\n",
      "╘══════╧═════╧═════╧════════════╧═══════╧═══════╛\n"
     ]
    }
   ],
   "source": [
    "a = [\n",
    "    '\\n',\n",
    "    '>d crallext 0912\\n',\n",
    "    'SYNTEL NEOS 160  Ver 0.8   Call Record',\n",
    "    '1285  303         004  9929644331       09/12 10:38',\n",
    "    '1314  303         004  9414057679       09/12 10:58',\n",
    "    '1487  303         004  9001420340       09/12 12:19',\n",
    "]\n",
    "\n",
    "b = [i for i in a if i[0].isdigit()]\n",
    "print(b)\n",
    "\n",
    "b = [i.split() for i in b]\n",
    "print(b)\n",
    "from tabulate import tabulate\n",
    "print(tabulate(b,tablefmt='fancy_grid'))"
   ]
  },
  {
   "cell_type": "markdown",
   "metadata": {},
   "source": [
    "### List comprehension with condition filtering"
   ]
  },
  {
   "cell_type": "code",
   "execution_count": 48,
   "metadata": {},
   "outputs": [
    {
     "name": "stdout",
     "output_type": "stream",
     "text": [
      "[1, 3]\n"
     ]
    }
   ],
   "source": [
    "a = []\n",
    "for i in range(5):\n",
    "    if i%2 != 0:\n",
    "        a.append(i)\n",
    "print(a)"
   ]
  },
  {
   "cell_type": "code",
   "execution_count": 49,
   "metadata": {},
   "outputs": [
    {
     "name": "stdout",
     "output_type": "stream",
     "text": [
      "[1, 3]\n"
     ]
    }
   ],
   "source": [
    "# List comprehension\n",
    "a = [i for i in range(5) if i%2 != 0]\n",
    "print(a)"
   ]
  },
  {
   "cell_type": "code",
   "execution_count": 50,
   "metadata": {},
   "outputs": [
    {
     "name": "stdout",
     "output_type": "stream",
     "text": [
      "[(0, 'EVEN'), (1, 'ODD'), (2, 'EVEN'), (3, 'ODD'), (4, 'EVEN')]\n"
     ]
    }
   ],
   "source": [
    "a = []\n",
    "for i in range(5):\n",
    "    if i%2 != 0:\n",
    "        a.append((i,'ODD'))\n",
    "    else:\n",
    "        a.append((i,'EVEN'))\n",
    "print(a)"
   ]
  },
  {
   "cell_type": "code",
   "execution_count": 51,
   "metadata": {},
   "outputs": [
    {
     "name": "stdout",
     "output_type": "stream",
     "text": [
      "[(0, 'EVEN'), (1, 'ODD'), (2, 'EVEN'), (3, 'ODD'), (4, 'EVEN')]\n"
     ]
    }
   ],
   "source": [
    "# LC\n",
    "\n",
    "a = [(i,'ODD') if i%2 != 0 else (i,'EVEN') for i in range(5)]\n",
    "print(a)"
   ]
  },
  {
   "cell_type": "markdown",
   "metadata": {},
   "source": [
    "### List comprehension over nested loops"
   ]
  },
  {
   "cell_type": "code",
   "execution_count": 52,
   "metadata": {},
   "outputs": [
    {
     "name": "stdout",
     "output_type": "stream",
     "text": [
      "[(0, 0), (0, 1), (0, 2), (1, 0), (1, 1), (1, 2)]\n"
     ]
    }
   ],
   "source": [
    "a = []\n",
    "for i in range(2):\n",
    "    for j in range(3):\n",
    "        a.append((i,j))\n",
    "print(a)"
   ]
  },
  {
   "cell_type": "code",
   "execution_count": 53,
   "metadata": {},
   "outputs": [
    {
     "name": "stdout",
     "output_type": "stream",
     "text": [
      "[(0, 0), (0, 1), (0, 2), (1, 0), (1, 1), (1, 2)]\n"
     ]
    }
   ],
   "source": [
    "a = [(i,j) for i in range(2) for j in range(3)]\n",
    "print(a)"
   ]
  },
  {
   "cell_type": "code",
   "execution_count": 54,
   "metadata": {},
   "outputs": [
    {
     "name": "stdout",
     "output_type": "stream",
     "text": [
      "[1, 2, 3, 4, 5]\n",
      "range(0, 10)\n",
      "[1, 2, 3, 4, 5]\n",
      "[[1, 2, 3, 4, 5], [1, 2, 3, 4, 5], [1, 2, 3, 4, 5], [1, 2, 3, 4, 5], [1, 2, 3, 4, 5]]\n",
      "[]\n",
      "[[0, 0], [1, 1], [2, 4], [3, 9], [4, 16], [5, 25], [6, 36], [7, 49], [8, 64], [9, 81]]\n"
     ]
    }
   ],
   "source": [
    "A0 = [1,2,3,4,5]\n",
    "print(A0)\n",
    "A1 = range(10)\n",
    "print(A1)\n",
    "A2 = [i for i in A1 if i in A0]\n",
    "print(A2)\n",
    "A3 = [A0 for s in A0]\n",
    "print(A3)\n",
    "A4 = [i for i in A1 if i in A3]\n",
    "print(A4)\n",
    "A5 = [[i,i*i] for i in A1]\n",
    "print(A5)"
   ]
  },
  {
   "cell_type": "markdown",
   "metadata": {},
   "source": [
    "### Nested List comprehension"
   ]
  },
  {
   "cell_type": "code",
   "execution_count": 55,
   "metadata": {},
   "outputs": [
    {
     "name": "stdout",
     "output_type": "stream",
     "text": [
      "[2, 3, 5, 7]\n"
     ]
    }
   ],
   "source": [
    "# Prime between a given range\n",
    "low = 2\n",
    "high = 10\n",
    "a = []\n",
    "for n in range(low,high+1):\n",
    "    for i in range(2,n//2 + 1):\n",
    "        if n%i == 0:\n",
    "            break\n",
    "    else:\n",
    "        a.append(n)\n",
    "print(a)"
   ]
  },
  {
   "cell_type": "code",
   "execution_count": 56,
   "metadata": {},
   "outputs": [
    {
     "name": "stdout",
     "output_type": "stream",
     "text": [
      "[2, 3, 5, 7]\n"
     ]
    }
   ],
   "source": [
    "# LC\n",
    "low,high = 2,10\n",
    "a = [n for n in range(low,high+1) if 0 not in [n%i for i in range(2,n//2 +1)]]\n",
    "print(a)"
   ]
  },
  {
   "cell_type": "markdown",
   "metadata": {},
   "source": [
    "## Question\n",
    "\n",
    "Given a string and a width you have to print the string line by line with maximum characters in a line equals to the width mentioned"
   ]
  },
  {
   "cell_type": "code",
   "execution_count": 57,
   "metadata": {},
   "outputs": [
    {
     "name": "stdout",
     "output_type": "stream",
     "text": [
      "['ABCD', 'EFGH', 'IJKL', 'MNOP', 'QRST', 'UVWX', 'YZ']\n",
      "ABCD\n",
      "EFGH\n",
      "IJKL\n",
      "MNOP\n",
      "QRST\n",
      "UVWX\n",
      "YZ\n"
     ]
    }
   ],
   "source": [
    "\n",
    "a = 'ABCDEFGHIJKLMNOPQRSTUVWXYZ'\n",
    "w = 4\n",
    "\n",
    "b = []\n",
    "for i in range(0,len(a),w):\n",
    "    b.append(a[i:i+w])\n",
    "print(b)\n",
    "b = '\\n'.join(b)\n",
    "print(b)"
   ]
  },
  {
   "cell_type": "code",
   "execution_count": 58,
   "metadata": {},
   "outputs": [
    {
     "name": "stdout",
     "output_type": "stream",
     "text": [
      "ABCD\n",
      "EFGH\n",
      "IJKL\n",
      "MNOP\n",
      "QRST\n",
      "UVWX\n",
      "YZ\n"
     ]
    }
   ],
   "source": [
    "#LC\n",
    "\n",
    "a = 'ABCDEFGHIJKLMNOPQRSTUVWXYZ'\n",
    "w = 4\n",
    "\n",
    "b = '\\n'.join([a[i:i+w] for i in range(0,len(a),w)])\n",
    "print(b)"
   ]
  },
  {
   "cell_type": "code",
   "execution_count": 10,
   "metadata": {},
   "outputs": [
    {
     "name": "stdout",
     "output_type": "stream",
     "text": [
      "[10, 20, 30]\n",
      "[10, 20, 30]\n"
     ]
    }
   ],
   "source": [
    "# Remove duplicates from  a list\n",
    "\n",
    "a = [10,40,40,40,20,30,40]\n",
    "b = []\n",
    "for i in a:\n",
    "    if a.count(i) == 1:\n",
    "        b.append(i)\n",
    "print(b)\n",
    "\n",
    "a = [i for i in a if a.count(i) == 1]\n",
    "print(a)"
   ]
  },
  {
   "cell_type": "code",
   "execution_count": null,
   "metadata": {},
   "outputs": [],
   "source": []
  }
 ],
 "metadata": {
  "kernelspec": {
   "display_name": "Python 3",
   "language": "python",
   "name": "python3"
  },
  "language_info": {
   "codemirror_mode": {
    "name": "ipython",
    "version": 3
   },
   "file_extension": ".py",
   "mimetype": "text/x-python",
   "name": "python",
   "nbconvert_exporter": "python",
   "pygments_lexer": "ipython3",
   "version": "3.7.4"
  }
 },
 "nbformat": 4,
 "nbformat_minor": 2
}
