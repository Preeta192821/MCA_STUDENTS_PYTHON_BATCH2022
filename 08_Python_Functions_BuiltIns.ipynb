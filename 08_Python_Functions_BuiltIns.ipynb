{
 "cells": [
  {
   "cell_type": "markdown",
   "metadata": {},
   "source": [
    "## Functions\n",
    "\n",
    "* Built-in Functions\n",
    "* User Defined Functions"
   ]
  },
  {
   "cell_type": "markdown",
   "metadata": {},
   "source": [
    "### Built-in Functions"
   ]
  },
  {
   "cell_type": "code",
   "execution_count": 1,
   "metadata": {},
   "outputs": [
    {
     "name": "stdout",
     "output_type": "stream",
     "text": [
      "['ArithmeticError', 'AssertionError', 'AttributeError', 'BaseException', 'BlockingIOError', 'BrokenPipeError', 'BufferError', 'BytesWarning', 'ChildProcessError', 'ConnectionAbortedError', 'ConnectionError', 'ConnectionRefusedError', 'ConnectionResetError', 'DeprecationWarning', 'EOFError', 'Ellipsis', 'EnvironmentError', 'Exception', 'False', 'FileExistsError', 'FileNotFoundError', 'FloatingPointError', 'FutureWarning', 'GeneratorExit', 'IOError', 'ImportError', 'ImportWarning', 'IndentationError', 'IndexError', 'InterruptedError', 'IsADirectoryError', 'KeyError', 'KeyboardInterrupt', 'LookupError', 'MemoryError', 'ModuleNotFoundError', 'NameError', 'None', 'NotADirectoryError', 'NotImplemented', 'NotImplementedError', 'OSError', 'OverflowError', 'PendingDeprecationWarning', 'PermissionError', 'ProcessLookupError', 'RecursionError', 'ReferenceError', 'ResourceWarning', 'RuntimeError', 'RuntimeWarning', 'StopAsyncIteration', 'StopIteration', 'SyntaxError', 'SyntaxWarning', 'SystemError', 'SystemExit', 'TabError', 'TimeoutError', 'True', 'TypeError', 'UnboundLocalError', 'UnicodeDecodeError', 'UnicodeEncodeError', 'UnicodeError', 'UnicodeTranslateError', 'UnicodeWarning', 'UserWarning', 'ValueError', 'Warning', 'WindowsError', 'ZeroDivisionError', '__IPYTHON__', '__build_class__', '__debug__', '__doc__', '__import__', '__loader__', '__name__', '__package__', '__spec__', 'abs', 'all', 'any', 'ascii', 'bin', 'bool', 'breakpoint', 'bytearray', 'bytes', 'callable', 'chr', 'classmethod', 'compile', 'complex', 'copyright', 'credits', 'delattr', 'dict', 'dir', 'display', 'divmod', 'enumerate', 'eval', 'exec', 'filter', 'float', 'format', 'frozenset', 'get_ipython', 'getattr', 'globals', 'hasattr', 'hash', 'help', 'hex', 'id', 'input', 'int', 'isinstance', 'issubclass', 'iter', 'len', 'license', 'list', 'locals', 'map', 'max', 'memoryview', 'min', 'next', 'object', 'oct', 'open', 'ord', 'pow', 'print', 'property', 'range', 'repr', 'reversed', 'round', 'set', 'setattr', 'slice', 'sorted', 'staticmethod', 'str', 'sum', 'super', 'tuple', 'type', 'vars', 'zip']\n"
     ]
    }
   ],
   "source": [
    "print(dir(__builtins__))"
   ]
  },
  {
   "cell_type": "code",
   "execution_count": 3,
   "metadata": {},
   "outputs": [
    {
     "name": "stdout",
     "output_type": "stream",
     "text": [
      "Help on built-in function max in module builtins:\n",
      "\n",
      "max(...)\n",
      "    max(iterable, *[, default=obj, key=func]) -> value\n",
      "    max(arg1, arg2, *args, *[, key=func]) -> value\n",
      "    \n",
      "    With a single iterable argument, return its biggest item. The\n",
      "    default keyword-only argument specifies an object to return if\n",
      "    the provided iterable is empty.\n",
      "    With two or more arguments, return the largest argument.\n",
      "\n",
      "Help on built-in function min in module builtins:\n",
      "\n",
      "min(...)\n",
      "    min(iterable, *[, default=obj, key=func]) -> value\n",
      "    min(arg1, arg2, *args, *[, key=func]) -> value\n",
      "    \n",
      "    With a single iterable argument, return its smallest item. The\n",
      "    default keyword-only argument specifies an object to return if\n",
      "    the provided iterable is empty.\n",
      "    With two or more arguments, return the smallest argument.\n",
      "\n"
     ]
    }
   ],
   "source": [
    "help(max)\n",
    "help(min)"
   ]
  },
  {
   "cell_type": "code",
   "execution_count": 4,
   "metadata": {},
   "outputs": [
    {
     "name": "stdout",
     "output_type": "stream",
     "text": [
      "50\n",
      "10\n"
     ]
    }
   ],
   "source": [
    "# You can pass multiple values to max and min functions\n",
    "print(max(10,20,30,40,50))\n",
    "print(min(10,20,30,40,50))"
   ]
  },
  {
   "cell_type": "code",
   "execution_count": 1,
   "metadata": {},
   "outputs": [
    {
     "name": "stdout",
     "output_type": "stream",
     "text": [
      "121\n",
      "13\n",
      "Y\n",
      "H\n"
     ]
    }
   ],
   "source": [
    "# You can also pass an iterable to max and min function\n",
    "a = [13,42,121,41,21,41,21]\n",
    "print(max(a))\n",
    "print(min(a))\n",
    "a = 'PYTHON'\n",
    "print(max(a))\n",
    "print(min(a))"
   ]
  },
  {
   "cell_type": "code",
   "execution_count": 6,
   "metadata": {},
   "outputs": [
    {
     "name": "stdout",
     "output_type": "stream",
     "text": [
      "Help on built-in function sum in module builtins:\n",
      "\n",
      "sum(iterable, start=0, /)\n",
      "    Return the sum of a 'start' value (default: 0) plus an iterable of numbers\n",
      "    \n",
      "    When the iterable is empty, return the start value.\n",
      "    This function is intended specifically for use with numeric values and may\n",
      "    reject non-numeric types.\n",
      "\n"
     ]
    }
   ],
   "source": [
    "help(sum)"
   ]
  },
  {
   "cell_type": "code",
   "execution_count": 1,
   "metadata": {},
   "outputs": [
    {
     "name": "stdout",
     "output_type": "stream",
     "text": [
      "100\n"
     ]
    }
   ],
   "source": [
    "# Below Statement will give an Error as sum takes an iterable as an argument\n",
    "#print(sum(10,20,30,40))\n",
    "\n",
    "print(sum([10,20,30,40]))"
   ]
  },
  {
   "cell_type": "code",
   "execution_count": 8,
   "metadata": {},
   "outputs": [
    {
     "name": "stdout",
     "output_type": "stream",
     "text": [
      "Help on built-in function sorted in module builtins:\n",
      "\n",
      "sorted(iterable, /, *, key=None, reverse=False)\n",
      "    Return a new list containing all items from the iterable in ascending order.\n",
      "    \n",
      "    A custom key function can be supplied to customize the sort order, and the\n",
      "    reverse flag can be set to request the result in descending order.\n",
      "\n"
     ]
    }
   ],
   "source": [
    "help(sorted)"
   ]
  },
  {
   "cell_type": "code",
   "execution_count": 9,
   "metadata": {},
   "outputs": [
    {
     "name": "stdout",
     "output_type": "stream",
     "text": [
      "[19, 10, 4, 15, 29, 29, 6]\n",
      "[4, 6, 10, 15, 19, 29, 29]\n",
      "[29, 29, 19, 15, 10, 6, 4]\n"
     ]
    }
   ],
   "source": [
    "a = [19, 10, 4, 15, 29, 29, 6]\n",
    "print(a)\n",
    "# By default sorted returns a new list in ascending order\n",
    "b = sorted(a)\n",
    "print(b)\n",
    "# You can change the order of sorting using the reverse Keyword\n",
    "b = sorted(a,reverse=True)\n",
    "print(b)"
   ]
  },
  {
   "cell_type": "code",
   "execution_count": 10,
   "metadata": {},
   "outputs": [
    {
     "name": "stdout",
     "output_type": "stream",
     "text": [
      "['ze', 'abacacas', 'cdv', 'cdefg']\n",
      "['abacacas', 'cdefg', 'cdv', 'ze']\n",
      "['ze', 'cdv', 'cdefg', 'abacacas']\n"
     ]
    }
   ],
   "source": [
    "a = ['ze','abacacas','cdv','cdefg']\n",
    "print(a)\n",
    "b = sorted(a)\n",
    "print(b)\n",
    "b = sorted(a,reverse=True)\n",
    "print(b)"
   ]
  },
  {
   "cell_type": "code",
   "execution_count": 11,
   "metadata": {},
   "outputs": [
    {
     "name": "stdout",
     "output_type": "stream",
     "text": [
      "PYTHON\n",
      "['H', 'N', 'O', 'P', 'T', 'Y']\n"
     ]
    }
   ],
   "source": [
    "a = 'PYTHON'\n",
    "print(a)\n",
    "b = sorted(a)\n",
    "print(b)"
   ]
  },
  {
   "cell_type": "code",
   "execution_count": 13,
   "metadata": {},
   "outputs": [
    {
     "name": "stdout",
     "output_type": "stream",
     "text": [
      "['ze', 'abacacas', 'bdv', 'cdefg']\n",
      "['abacacas', 'bdv', 'cdefg', 'ze']\n",
      "['ze', 'bdv', 'cdefg', 'abacacas']\n"
     ]
    }
   ],
   "source": [
    "# Using the 'key' argument in sorted function you can customize the sort order\n",
    "a = ['ze','abacacas','bdv','cdefg']\n",
    "print(a)\n",
    "b = sorted(a)\n",
    "print(b)\n",
    "# Sorting based on length of string\n",
    "b = sorted(a,key=len)\n",
    "print(b)"
   ]
  },
  {
   "cell_type": "code",
   "execution_count": 14,
   "metadata": {},
   "outputs": [
    {
     "name": "stdout",
     "output_type": "stream",
     "text": [
      "Help on built-in function eval in module builtins:\n",
      "\n",
      "eval(source, globals=None, locals=None, /)\n",
      "    Evaluate the given source in the context of globals and locals.\n",
      "    \n",
      "    The source may be a string representing a Python expression\n",
      "    or a code object as returned by compile().\n",
      "    The globals must be a dictionary and locals can be any mapping,\n",
      "    defaulting to the current globals and locals.\n",
      "    If only globals is given, locals defaults to it.\n",
      "\n"
     ]
    }
   ],
   "source": [
    "help(eval)"
   ]
  },
  {
   "cell_type": "code",
   "execution_count": 15,
   "metadata": {},
   "outputs": [
    {
     "name": "stdout",
     "output_type": "stream",
     "text": [
      "4\n",
      "<class 'int'>\n",
      "<built-in function len>\n"
     ]
    }
   ],
   "source": [
    "print(eval('1+3'))\n",
    "print(eval('int'))\n",
    "print(eval('len'))"
   ]
  },
  {
   "cell_type": "code",
   "execution_count": 16,
   "metadata": {},
   "outputs": [
    {
     "name": "stdout",
     "output_type": "stream",
     "text": [
      "Help on class enumerate in module builtins:\n",
      "\n",
      "class enumerate(object)\n",
      " |  enumerate(iterable, start=0)\n",
      " |  \n",
      " |  Return an enumerate object.\n",
      " |  \n",
      " |    iterable\n",
      " |      an object supporting iteration\n",
      " |  \n",
      " |  The enumerate object yields pairs containing a count (from start, which\n",
      " |  defaults to zero) and a value yielded by the iterable argument.\n",
      " |  \n",
      " |  enumerate is useful for obtaining an indexed list:\n",
      " |      (0, seq[0]), (1, seq[1]), (2, seq[2]), ...\n",
      " |  \n",
      " |  Methods defined here:\n",
      " |  \n",
      " |  __getattribute__(self, name, /)\n",
      " |      Return getattr(self, name).\n",
      " |  \n",
      " |  __iter__(self, /)\n",
      " |      Implement iter(self).\n",
      " |  \n",
      " |  __next__(self, /)\n",
      " |      Implement next(self).\n",
      " |  \n",
      " |  __reduce__(...)\n",
      " |      Return state information for pickling.\n",
      " |  \n",
      " |  ----------------------------------------------------------------------\n",
      " |  Static methods defined here:\n",
      " |  \n",
      " |  __new__(*args, **kwargs) from builtins.type\n",
      " |      Create and return a new object.  See help(type) for accurate signature.\n",
      "\n"
     ]
    }
   ],
   "source": [
    "help(enumerate)"
   ]
  },
  {
   "cell_type": "code",
   "execution_count": 17,
   "metadata": {},
   "outputs": [
    {
     "name": "stdout",
     "output_type": "stream",
     "text": [
      "[(0, 'P'), (1, 'Y'), (2, 'T'), (3, 'H'), (4, 'O'), (5, 'N')]\n",
      "[(100, 'P'), (101, 'Y'), (102, 'T'), (103, 'H'), (104, 'O'), (105, 'N')]\n"
     ]
    }
   ],
   "source": [
    "a = 'PYTHON'\n",
    "b = list(enumerate(a))\n",
    "print(b)\n",
    "b = list(enumerate(a,100))\n",
    "print(b)"
   ]
  },
  {
   "cell_type": "code",
   "execution_count": 18,
   "metadata": {},
   "outputs": [
    {
     "name": "stdout",
     "output_type": "stream",
     "text": [
      "(0, 'PYTHON')\n",
      "(1, 'JAVA')\n",
      "(2, 'PHP')\n"
     ]
    }
   ],
   "source": [
    "a = ['PYTHON','JAVA','PHP']\n",
    "\n",
    "for i in enumerate(a):\n",
    "    print(i)"
   ]
  },
  {
   "cell_type": "code",
   "execution_count": 20,
   "metadata": {},
   "outputs": [
    {
     "name": "stdout",
     "output_type": "stream",
     "text": [
      "(1, 'PYTHON')\n",
      "(2, 'JAVA')\n",
      "(3, 'PHP')\n"
     ]
    }
   ],
   "source": [
    "a = ['PYTHON','JAVA','PHP']\n",
    "\n",
    "for i in enumerate(a,1):\n",
    "    print(i)"
   ]
  },
  {
   "cell_type": "code",
   "execution_count": 21,
   "metadata": {},
   "outputs": [
    {
     "name": "stdout",
     "output_type": "stream",
     "text": [
      "1 -> PYTHON\n",
      "2 -> JAVA\n",
      "3 -> PHP\n",
      "Enter a choice : (1-3)1\n",
      "You have chosen : PYTHON\n"
     ]
    }
   ],
   "source": [
    "a = ['PYTHON','JAVA','PHP']\n",
    "\n",
    "for i,v in enumerate(a,1):\n",
    "    print(i,'->',v)\n",
    "usr = int(input(\"Enter a choice : (1-3)\"))\n",
    "print('You have chosen :',a[usr-1])"
   ]
  },
  {
   "cell_type": "code",
   "execution_count": 22,
   "metadata": {},
   "outputs": [
    {
     "name": "stdout",
     "output_type": "stream",
     "text": [
      "3\n"
     ]
    }
   ],
   "source": [
    "# To Get absolute value\n",
    "print(abs(-3))"
   ]
  },
  {
   "cell_type": "code",
   "execution_count": 25,
   "metadata": {},
   "outputs": [
    {
     "name": "stdout",
     "output_type": "stream",
     "text": [
      "Help on built-in function any in module builtins:\n",
      "\n",
      "any(iterable, /)\n",
      "    Return True if bool(x) is True for any x in the iterable.\n",
      "    \n",
      "    If the iterable is empty, return False.\n",
      "\n",
      "Help on built-in function all in module builtins:\n",
      "\n",
      "all(iterable, /)\n",
      "    Return True if bool(x) is True for all values x in the iterable.\n",
      "    \n",
      "    If the iterable is empty, return True.\n",
      "\n"
     ]
    }
   ],
   "source": [
    "help(any)\n",
    "help(all)"
   ]
  },
  {
   "cell_type": "code",
   "execution_count": 23,
   "metadata": {},
   "outputs": [
    {
     "name": "stdout",
     "output_type": "stream",
     "text": [
      "True\n",
      "False\n",
      "True\n",
      "True\n"
     ]
    }
   ],
   "source": [
    "\n",
    "a = [0,1,2,2,1,0]\n",
    "print(any(a))\n",
    "print(all(a))\n",
    "\n",
    "a = [-1,1,2,2,1,10]\n",
    "print(any(a))\n",
    "print(all(a))"
   ]
  },
  {
   "cell_type": "code",
   "execution_count": 26,
   "metadata": {},
   "outputs": [
    {
     "name": "stdout",
     "output_type": "stream",
     "text": [
      "5\n",
      "0b101 <class 'str'>\n"
     ]
    }
   ],
   "source": [
    "a = 5\n",
    "print(a)\n",
    "b = bin(a)\n",
    "print(b,type(b))"
   ]
  },
  {
   "cell_type": "markdown",
   "metadata": {},
   "source": [
    "## Activity\n",
    "\n",
    "A numeral palindrome is a number that remains the same when its digits are reversed\n",
    "1. Form a list of all numbers between 1 and 100 which are palindrome.\n",
    "\n",
    "2. Form a list of all numbers between 1 and 100 which are palindrome as well as their binary is also a palindrome"
   ]
  },
  {
   "cell_type": "code",
   "execution_count": 27,
   "metadata": {},
   "outputs": [
    {
     "name": "stdout",
     "output_type": "stream",
     "text": [
      "[1, 2, 3, 4, 5, 6, 7, 8, 9, 11, 22, 33, 44, 55, 66, 77, 88, 99]\n"
     ]
    }
   ],
   "source": [
    "# 1.\n",
    "\n",
    "low = 1\n",
    "high = 100\n",
    "a = []\n",
    "\n",
    "for n in range(low,high+1):\n",
    "    if n == int(str(n)[::-1]):\n",
    "        a.append(n)\n",
    "print(a)"
   ]
  },
  {
   "cell_type": "code",
   "execution_count": 28,
   "metadata": {},
   "outputs": [
    {
     "name": "stdout",
     "output_type": "stream",
     "text": [
      "[1, 3, 5, 7, 9, 33, 99]\n"
     ]
    }
   ],
   "source": [
    "# List out all palidrome in given range. Make sure their binary is also\n",
    "# a palindrome\n",
    "low = 1\n",
    "high = 100\n",
    "a = []\n",
    "\n",
    "for n in range(low,high+1):\n",
    "    if n != int(str(n)[::-1]):\n",
    "        continue\n",
    "    b = bin(n)[2:]\n",
    "    if b == b[::-1]:\n",
    "        a.append(n)\n",
    "print(a)"
   ]
  },
  {
   "cell_type": "code",
   "execution_count": 29,
   "metadata": {},
   "outputs": [
    {
     "name": "stdout",
     "output_type": "stream",
     "text": [
      "0b1001\n"
     ]
    }
   ],
   "source": [
    "print(bin(9))"
   ]
  },
  {
   "cell_type": "code",
   "execution_count": 30,
   "metadata": {},
   "outputs": [
    {
     "name": "stdout",
     "output_type": "stream",
     "text": [
      "Help on class map in module builtins:\n",
      "\n",
      "class map(object)\n",
      " |  map(func, *iterables) --> map object\n",
      " |  \n",
      " |  Make an iterator that computes the function using arguments from\n",
      " |  each of the iterables.  Stops when the shortest iterable is exhausted.\n",
      " |  \n",
      " |  Methods defined here:\n",
      " |  \n",
      " |  __getattribute__(self, name, /)\n",
      " |      Return getattr(self, name).\n",
      " |  \n",
      " |  __iter__(self, /)\n",
      " |      Implement iter(self).\n",
      " |  \n",
      " |  __next__(self, /)\n",
      " |      Implement next(self).\n",
      " |  \n",
      " |  __reduce__(...)\n",
      " |      Return state information for pickling.\n",
      " |  \n",
      " |  ----------------------------------------------------------------------\n",
      " |  Static methods defined here:\n",
      " |  \n",
      " |  __new__(*args, **kwargs) from builtins.type\n",
      " |      Create and return a new object.  See help(type) for accurate signature.\n",
      "\n"
     ]
    }
   ],
   "source": [
    "help(map)"
   ]
  },
  {
   "cell_type": "code",
   "execution_count": 31,
   "metadata": {},
   "outputs": [],
   "source": [
    "# Modifying a list of numerical string to integers"
   ]
  },
  {
   "cell_type": "code",
   "execution_count": 33,
   "metadata": {},
   "outputs": [
    {
     "name": "stdout",
     "output_type": "stream",
     "text": [
      "['1', '2', '3', '4']\n",
      "[1, 2, 3, 4]\n"
     ]
    }
   ],
   "source": [
    "# Using For loop\n",
    "a = ['1','2','3','4']\n",
    "print(a)\n",
    "for i in range(len(a)):\n",
    "    a[i] = int(a[i])\n",
    "print(a)"
   ]
  },
  {
   "cell_type": "code",
   "execution_count": 34,
   "metadata": {},
   "outputs": [
    {
     "name": "stdout",
     "output_type": "stream",
     "text": [
      "['1', '2', '3', '4'] 785715050056\n",
      "[1, 2, 3, 4] 785712934856\n"
     ]
    }
   ],
   "source": [
    "# Using List Comprehension\n",
    "a = ['1','2','3','4']\n",
    "print(a,id(a))\n",
    "a = [int(i) for i in a]\n",
    "print(a,id(a))"
   ]
  },
  {
   "cell_type": "code",
   "execution_count": 35,
   "metadata": {},
   "outputs": [
    {
     "name": "stdout",
     "output_type": "stream",
     "text": [
      "['1', '2', '3', '4'] 785715187016\n",
      "[1, 2, 3, 4] 785715235848\n"
     ]
    }
   ],
   "source": [
    "# Using Map Function\n",
    "a = ['1','2','3','4']\n",
    "print(a,id(a))\n",
    "a = list(map(int,a))\n",
    "print(a,id(a))"
   ]
  },
  {
   "cell_type": "code",
   "execution_count": 38,
   "metadata": {},
   "outputs": [
    {
     "name": "stdout",
     "output_type": "stream",
     "text": [
      "['PYTHON', 'JAVA', 'PHP']\n",
      "[6, 4, 3]\n"
     ]
    }
   ],
   "source": [
    "# Another Example of map function\n",
    "a = ['PYTHON','JAVA','PHP']\n",
    "print(a)\n",
    "b = list(map(len,a))\n",
    "print(b)"
   ]
  },
  {
   "cell_type": "code",
   "execution_count": 39,
   "metadata": {},
   "outputs": [
    {
     "name": "stdout",
     "output_type": "stream",
     "text": [
      "['PYthON', 'javA', 'PHP']\n",
      "['python', 'java', 'php']\n",
      "['PYTHON', 'JAVA', 'PHP']\n"
     ]
    }
   ],
   "source": [
    "a = ['PYthON','javA','PHP']\n",
    "print(a)\n",
    "b = list(map(str.lower,a))\n",
    "print(b)\n",
    "b = list(map(str.upper,a))\n",
    "print(b)"
   ]
  },
  {
   "cell_type": "code",
   "execution_count": 40,
   "metadata": {},
   "outputs": [
    {
     "name": "stdout",
     "output_type": "stream",
     "text": [
      "Help on class filter in module builtins:\n",
      "\n",
      "class filter(object)\n",
      " |  filter(function or None, iterable) --> filter object\n",
      " |  \n",
      " |  Return an iterator yielding those items of iterable for which function(item)\n",
      " |  is true. If function is None, return the items that are true.\n",
      " |  \n",
      " |  Methods defined here:\n",
      " |  \n",
      " |  __getattribute__(self, name, /)\n",
      " |      Return getattr(self, name).\n",
      " |  \n",
      " |  __iter__(self, /)\n",
      " |      Implement iter(self).\n",
      " |  \n",
      " |  __next__(self, /)\n",
      " |      Implement next(self).\n",
      " |  \n",
      " |  __reduce__(...)\n",
      " |      Return state information for pickling.\n",
      " |  \n",
      " |  ----------------------------------------------------------------------\n",
      " |  Static methods defined here:\n",
      " |  \n",
      " |  __new__(*args, **kwargs) from builtins.type\n",
      " |      Create and return a new object.  See help(type) for accurate signature.\n",
      "\n"
     ]
    }
   ],
   "source": [
    "help(filter)"
   ]
  },
  {
   "cell_type": "code",
   "execution_count": 41,
   "metadata": {},
   "outputs": [
    {
     "name": "stdout",
     "output_type": "stream",
     "text": [
      "['HE', '', 'O']\n",
      "['HE', 'O']\n"
     ]
    }
   ],
   "source": [
    "a = 'HELLO'.split('L')\n",
    "print(a)\n",
    "b = list(filter(len,a))\n",
    "print(b)"
   ]
  },
  {
   "cell_type": "code",
   "execution_count": 43,
   "metadata": {},
   "outputs": [
    {
     "name": "stdout",
     "output_type": "stream",
     "text": [
      "['THIS', 'IS', 'AN', 'EXAMPLE']\n",
      "['THIS', '', '', '', '', '', 'IS', '', '', 'AN', 'EXAMPLE']\n",
      "['THIS', 'IS', 'AN', 'EXAMPLE']\n"
     ]
    }
   ],
   "source": [
    "a = 'THIS      IS   AN EXAMPLE'\n",
    "b = a.split()\n",
    "print(b)\n",
    "c = a.split(' ')\n",
    "print(c)\n",
    "c = list(filter(len,a.split(' ')))\n",
    "print(c)"
   ]
  },
  {
   "cell_type": "markdown",
   "metadata": {},
   "source": [
    "Note: We will revisit map and filter function while finishng up user defined functions"
   ]
  },
  {
   "cell_type": "code",
   "execution_count": null,
   "metadata": {},
   "outputs": [],
   "source": []
  }
 ],
 "metadata": {
  "kernelspec": {
   "display_name": "Python 3",
   "language": "python",
   "name": "python3"
  },
  "language_info": {
   "codemirror_mode": {
    "name": "ipython",
    "version": 3
   },
   "file_extension": ".py",
   "mimetype": "text/x-python",
   "name": "python",
   "nbconvert_exporter": "python",
   "pygments_lexer": "ipython3",
   "version": "3.7.4"
  }
 },
 "nbformat": 4,
 "nbformat_minor": 2
}
