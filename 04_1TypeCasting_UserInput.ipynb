{
 "cells": [
  {
   "cell_type": "markdown",
   "metadata": {},
   "source": [
    "## Typecasting\n",
    "\n",
    "Changing from one type to another"
   ]
  },
  {
   "cell_type": "code",
   "execution_count": 1,
   "metadata": {},
   "outputs": [
    {
     "name": "stdout",
     "output_type": "stream",
     "text": [
      "123 <class 'int'>\n",
      "123.0 <class 'float'>\n"
     ]
    }
   ],
   "source": [
    "a = 123\n",
    "print(a,type(a))\n",
    "a = float(a)\n",
    "print(a,type(a))"
   ]
  },
  {
   "cell_type": "code",
   "execution_count": 2,
   "metadata": {},
   "outputs": [
    {
     "name": "stdout",
     "output_type": "stream",
     "text": [
      "123.45 <class 'float'>\n",
      "123 <class 'int'>\n"
     ]
    }
   ],
   "source": [
    "a = 123.45\n",
    "print(a,type(a))\n",
    "a = int(a)\n",
    "print(a,type(a))"
   ]
  },
  {
   "cell_type": "code",
   "execution_count": 3,
   "metadata": {},
   "outputs": [
    {
     "name": "stdout",
     "output_type": "stream",
     "text": [
      "123 <class 'str'>\n",
      "123 <class 'int'>\n"
     ]
    }
   ],
   "source": [
    "a = '123'\n",
    "print(a,type(a))\n",
    "a = int(a)\n",
    "print(a,type(a))"
   ]
  },
  {
   "cell_type": "code",
   "execution_count": 4,
   "metadata": {},
   "outputs": [
    {
     "name": "stdout",
     "output_type": "stream",
     "text": [
      "123.45 <class 'str'>\n",
      "123.45 <class 'float'>\n",
      "123 <class 'int'>\n"
     ]
    }
   ],
   "source": [
    "a = '123.45'\n",
    "print(a,type(a))\n",
    "a = float(a)\n",
    "print(a,type(a))\n",
    "a = int(a)\n",
    "print(a,type(a))"
   ]
  },
  {
   "cell_type": "code",
   "execution_count": 5,
   "metadata": {},
   "outputs": [
    {
     "name": "stdout",
     "output_type": "stream",
     "text": [
      "PYTHON <class 'str'>\n",
      "['P', 'Y', 'T', 'H', 'O', 'N'] <class 'list'>\n",
      "PYTHON <class 'str'>\n"
     ]
    }
   ],
   "source": [
    "a = 'PYTHON'\n",
    "print(a,type(a))\n",
    "a = list(a)\n",
    "print(a,type(a))\n",
    "a = ''.join(a)\n",
    "print(a,type(a))"
   ]
  },
  {
   "cell_type": "code",
   "execution_count": 7,
   "metadata": {},
   "outputs": [
    {
     "name": "stdout",
     "output_type": "stream",
     "text": [
      "12345 <class 'int'>\n",
      "12345 <class 'str'>\n",
      "54321 <class 'str'>\n",
      "54321 <class 'int'>\n",
      "54321 <class 'int'>\n"
     ]
    }
   ],
   "source": [
    "# Reversing an integer using Typecasting\n",
    "a = 12345\n",
    "print(a,type(a))\n",
    "a = str(a)\n",
    "print(a,type(a))\n",
    "a = a[::-1]\n",
    "print(a,type(a))\n",
    "a = int(a)\n",
    "print(a,type(a))\n",
    "\n",
    "b = 12345\n",
    "b = int(str(b)[::-1])\n",
    "print(b,type(b))"
   ]
  },
  {
   "cell_type": "markdown",
   "metadata": {},
   "source": [
    "## Taking an User input\n",
    "\n",
    "### Syntax\n",
    "\n",
    "input(\"Optional Statement\")\n",
    "\n",
    "* BY defualt it returns a string object"
   ]
  },
  {
   "cell_type": "code",
   "execution_count": 8,
   "metadata": {},
   "outputs": [
    {
     "name": "stdout",
     "output_type": "stream",
     "text": [
      "Enter something : 123\n",
      "123 <class 'str'>\n"
     ]
    }
   ],
   "source": [
    "a = input(\"Enter something : \")\n",
    "print(a,type(a))"
   ]
  },
  {
   "cell_type": "code",
   "execution_count": 9,
   "metadata": {},
   "outputs": [
    {
     "name": "stdout",
     "output_type": "stream",
     "text": [
      "Enter a number :: 123\n",
      "123 <class 'int'>\n"
     ]
    }
   ],
   "source": [
    "a = int(input(\"Enter a number :: \"))\n",
    "print(a,type(a))"
   ]
  },
  {
   "cell_type": "code",
   "execution_count": 10,
   "metadata": {},
   "outputs": [
    {
     "name": "stdout",
     "output_type": "stream",
     "text": [
      "1 2 3 4 5\n",
      "[1, 2, 3, 4, 5] <class 'list'>\n"
     ]
    }
   ],
   "source": [
    "a = list(map(int,input().split()))\n",
    "print(a,type(a))"
   ]
  },
  {
   "cell_type": "code",
   "execution_count": null,
   "metadata": {},
   "outputs": [],
   "source": []
  }
 ],
 "metadata": {
  "kernelspec": {
   "display_name": "Python 3",
   "language": "python",
   "name": "python3"
  },
  "language_info": {
   "codemirror_mode": {
    "name": "ipython",
    "version": 3
   },
   "file_extension": ".py",
   "mimetype": "text/x-python",
   "name": "python",
   "nbconvert_exporter": "python",
   "pygments_lexer": "ipython3",
   "version": "3.7.3"
  }
 },
 "nbformat": 4,
 "nbformat_minor": 2
}
