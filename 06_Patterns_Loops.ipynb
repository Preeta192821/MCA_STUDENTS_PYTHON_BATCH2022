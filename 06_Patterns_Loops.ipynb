{
 "cells": [
  {
   "cell_type": "code",
   "execution_count": 1,
   "metadata": {},
   "outputs": [
    {
     "name": "stdout",
     "output_type": "stream",
     "text": [
      "X \n",
      "X X \n",
      "X X X \n",
      "X X X X \n",
      "X X X X X \n"
     ]
    }
   ],
   "source": [
    "n = 5\n",
    "for i in range(1,n+1):\n",
    "    for j in range(i):\n",
    "        print('X ',end ='')\n",
    "    print()"
   ]
  },
  {
   "cell_type": "code",
   "execution_count": 2,
   "metadata": {},
   "outputs": [
    {
     "name": "stdout",
     "output_type": "stream",
     "text": [
      "X \n",
      "X X \n",
      "X X X \n",
      "X X X X \n",
      "X X X X X \n"
     ]
    }
   ],
   "source": [
    "n = 5\n",
    "for i in range(1,n+1):\n",
    "    print('X '*i)"
   ]
  },
  {
   "cell_type": "code",
   "execution_count": 6,
   "metadata": {},
   "outputs": [
    {
     "name": "stdout",
     "output_type": "stream",
     "text": [
      "        X \n",
      "      X X \n",
      "    X X X \n",
      "  X X X X \n",
      "X X X X X \n"
     ]
    }
   ],
   "source": [
    "n = 5\n",
    "k = n-1\n",
    "\n",
    "for i in range(1,n+1):\n",
    "    print('  '*k,end='')\n",
    "    print('X '*i)\n",
    "    k -= 1"
   ]
  },
  {
   "cell_type": "code",
   "execution_count": 5,
   "metadata": {},
   "outputs": [
    {
     "name": "stdout",
     "output_type": "stream",
     "text": [
      "    X \n",
      "   X X \n",
      "  X X X \n",
      " X X X X \n",
      "X X X X X \n"
     ]
    }
   ],
   "source": [
    "n = 5\n",
    "k = n-1\n",
    "\n",
    "for i in range(1,n+1):\n",
    "    print(' '*k,end='')\n",
    "    print('X '*i)\n",
    "    k -= 1"
   ]
  },
  {
   "cell_type": "code",
   "execution_count": 6,
   "metadata": {},
   "outputs": [
    {
     "name": "stdout",
     "output_type": "stream",
     "text": [
      "    XXXXX\n",
      "    X\n",
      "XXXXX\n",
      "    X\n",
      "    XXXXX\n"
     ]
    }
   ],
   "source": [
    "n = 5\n",
    "k = n-1\n",
    "for i in range(1,n + 1):\n",
    "    if i == (n//2 +1):\n",
    "        print('X'*n)\n",
    "    else:\n",
    "        if i == 1 or i == n:\n",
    "            print(' '*k,end='')\n",
    "            print('X'*n)\n",
    "        else:\n",
    "            print(' '*k,end='')\n",
    "            print('X'*1)"
   ]
  },
  {
   "cell_type": "code",
   "execution_count": 7,
   "metadata": {},
   "outputs": [
    {
     "name": "stdout",
     "output_type": "stream",
     "text": [
      "X                 X \n",
      "X X             X X \n",
      "X X X         X X X \n",
      "X X X X     X X X X \n",
      "X X X X X X X X X X \n"
     ]
    }
   ],
   "source": [
    "n = 5\n",
    "k = 2*n - 2\n",
    "for i in range(1,n+1):\n",
    "    print('X '*i,end='')\n",
    "    print('  '*k,end='')\n",
    "    print('X '*i)\n",
    "    k -= 2"
   ]
  },
  {
   "cell_type": "code",
   "execution_count": 9,
   "metadata": {},
   "outputs": [
    {
     "name": "stdout",
     "output_type": "stream",
     "text": [
      "X               X \n",
      "X X           X X \n",
      "X X X       X X X \n",
      "X X X X   X X X X \n",
      "X X X X X X X X X \n"
     ]
    }
   ],
   "source": [
    "n = 5\n",
    "k = 2*n - 3\n",
    "for i in range(1,n+1):\n",
    "    if i == n:\n",
    "        print('X '*(2*n-1))\n",
    "        continue\n",
    "    print('X '*i,end='')\n",
    "    print('  '*k,end='')\n",
    "    print('X '*i)\n",
    "    k -= 2"
   ]
  },
  {
   "cell_type": "code",
   "execution_count": 10,
   "metadata": {},
   "outputs": [
    {
     "name": "stdout",
     "output_type": "stream",
     "text": [
      "X X X X X X X X X X \n",
      "X X X X     X X X X \n",
      "X X X         X X X \n",
      "X X             X X \n",
      "X                 X \n"
     ]
    }
   ],
   "source": [
    "n = 5\n",
    "k = 0\n",
    "for i in range(n,0,-1):\n",
    "    print('X '*i,end='')\n",
    "    print('  '*k,end='')\n",
    "    print('X '*i)\n",
    "    k += 2"
   ]
  },
  {
   "cell_type": "code",
   "execution_count": 11,
   "metadata": {},
   "outputs": [
    {
     "name": "stdout",
     "output_type": "stream",
     "text": [
      "X X X X X X X X X \n",
      "X X X X   X X X X \n",
      "X X X       X X X \n",
      "X X           X X \n",
      "X               X \n"
     ]
    }
   ],
   "source": [
    "n = 5\n",
    "k = 1\n",
    "for i in range(n,0,-1):\n",
    "    if i == n:\n",
    "        print('X '*(2*n-1))\n",
    "        continue\n",
    "    print('X '*i,end='')\n",
    "    print('  '*k,end='')\n",
    "    print('X '*i)\n",
    "    k += 2"
   ]
  },
  {
   "cell_type": "code",
   "execution_count": 19,
   "metadata": {},
   "outputs": [
    {
     "name": "stdout",
     "output_type": "stream",
     "text": [
      "* * * * * X X X X X \n",
      "* * * *     X X X X \n",
      "* * *         X X X \n",
      "* *             X X \n",
      "*                 X \n",
      "X                 * \n",
      "X X             * * \n",
      "X X X         * * * \n",
      "X X X X     * * * * \n",
      "X X X X X * * * * * \n"
     ]
    }
   ],
   "source": [
    "n = 5\n",
    "k = 0\n",
    "for i in range(n,0,-1):\n",
    "    print('* '*i,end='')\n",
    "    print('  '*k,end='')\n",
    "    print('X '*i)\n",
    "    k += 2\n",
    "n = 5\n",
    "k = 2*n - 2\n",
    "for i in range(1,n+1):\n",
    "    print('X '*i,end='')\n",
    "    print('  '*k,end='')\n",
    "    print('* '*i)\n",
    "    k -= 2"
   ]
  },
  {
   "cell_type": "code",
   "execution_count": 13,
   "metadata": {},
   "outputs": [
    {
     "name": "stdout",
     "output_type": "stream",
     "text": [
      "          \n",
      "        X \n",
      "      X X \n",
      "    X X X \n",
      "  X X X X \n",
      "X X X X X \n",
      "  X X X X\n",
      "    X X X\n",
      "      X X\n",
      "        X\n",
      "         \n"
     ]
    }
   ],
   "source": [
    "n=5\n",
    "m=5\n",
    "for i in range(n+1):\n",
    "    print(\"  \"*n,end=\"\")\n",
    "    print(\"X \"*i)\n",
    "    n-=1\n",
    "for j in range(m):\n",
    "    print(\"  \"*j,\" X\"*(m-1))\n",
    "    # print(\"  \"*j)\n",
    "    m-=1"
   ]
  },
  {
   "cell_type": "code",
   "execution_count": 14,
   "metadata": {},
   "outputs": [
    {
     "name": "stdout",
     "output_type": "stream",
     "text": [
      " @ @ @ @ @ \n",
      "     * \n",
      "   * * * \n",
      " * * * * * \n",
      "     @\n",
      "     @\n",
      "     @\n",
      "     @\n",
      "     @\n"
     ]
    }
   ],
   "source": [
    "a = 5\n",
    "print(\"\",\"@ \"*a)\n",
    "for i in range(a+1):\n",
    "    if i%2==0:\n",
    "        continue\n",
    "    else:\n",
    "        print(\" \"*(a-i), \"* \"*i)\n",
    "for i in range(a):\n",
    "    print(\" \"*(a-1),\"@\")"
   ]
  },
  {
   "cell_type": "code",
   "execution_count": 16,
   "metadata": {},
   "outputs": [
    {
     "name": "stdout",
     "output_type": "stream",
     "text": [
      "           * \n",
      "         * * * \n",
      "       * * * * * \n",
      "     * * * * * * * \n",
      "   * * * * * * * * * \n",
      " * * * * * * * * * * * \n"
     ]
    }
   ],
   "source": [
    "a = 11\n",
    "\n",
    "for i in range(a+1):\n",
    "    if i%2==0:\n",
    "        continue\n",
    "    else:\n",
    "        print(\" \"*(a-i), \"* \"*i)"
   ]
  },
  {
   "cell_type": "code",
   "execution_count": 20,
   "metadata": {},
   "outputs": [
    {
     "name": "stdout",
     "output_type": "stream",
     "text": [
      "          * \n",
      "        * * * \n",
      "      * * * * * \n",
      "    * * * * * * * \n",
      "  * * * * * * * * * \n",
      "    * * * * * * * \n",
      "      * * * * * \n",
      "        * * * \n",
      "          * \n",
      "          * \n",
      "        * * * \n",
      "      * * * * * \n"
     ]
    }
   ],
   "source": [
    "a = 10\n",
    "for i in range(a+1):\n",
    "    if i%2==0:\n",
    "        continue\n",
    "    else:\n",
    "        print(\" \"*(a-i), \"* \"*i)\n",
    "\n",
    "for i in range(a-2,0,-1):\n",
    "    if i%2==0:\n",
    "        continue\n",
    "    else:\n",
    "        print(' '*(a-i),\"* \"*i)\n",
    "\n",
    "for i in range(a-3):\n",
    "    if i%2==0:\n",
    "        continue\n",
    "    else:\n",
    "        print(\" \"*(a-i), \"* \"*i)\n"
   ]
  },
  {
   "cell_type": "code",
   "execution_count": null,
   "metadata": {},
   "outputs": [],
   "source": []
  }
 ],
 "metadata": {
  "kernelspec": {
   "display_name": "Python 3",
   "language": "python",
   "name": "python3"
  },
  "language_info": {
   "codemirror_mode": {
    "name": "ipython",
    "version": 3
   },
   "file_extension": ".py",
   "mimetype": "text/x-python",
   "name": "python",
   "nbconvert_exporter": "python",
   "pygments_lexer": "ipython3",
   "version": "3.7.3"
  }
 },
 "nbformat": 4,
 "nbformat_minor": 2
}
