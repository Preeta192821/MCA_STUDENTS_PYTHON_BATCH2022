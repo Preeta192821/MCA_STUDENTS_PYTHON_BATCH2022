{
 "cells": [
  {
   "cell_type": "markdown",
   "metadata": {},
   "source": [
    "## List (Mutable)\n",
    "\n",
    "* Denoted by [ ] and items are separated using a ,\n",
    "* Concatenation\n",
    "* Indexing,Slicing\n",
    "* Methods\n",
    "* a =[ ] -> Empty List"
   ]
  },
  {
   "cell_type": "code",
   "execution_count": 3,
   "metadata": {},
   "outputs": [
    {
     "name": "stdout",
     "output_type": "stream",
     "text": [
      "[] <class 'list'> 0\n"
     ]
    }
   ],
   "source": [
    "a = []\n",
    "# Notice how the type is class list, as everything is an object in Python\n",
    "print(a,type(a),len(a))"
   ]
  },
  {
   "cell_type": "code",
   "execution_count": 5,
   "metadata": {},
   "outputs": [
    {
     "name": "stdout",
     "output_type": "stream",
     "text": [
      "[10, 20, 30, 40]\n",
      "[10, 10.45, 'HELLO', [1, 2, 3]]\n"
     ]
    }
   ],
   "source": [
    "# Homogenous data -> Same type\n",
    "a = [10,20,30,40]\n",
    "print(a)\n",
    "# Heterogenous Data -> Multiple types\n",
    "b = [10,10.45,\"HELLO\",[1,2,3]]\n",
    "print(b)"
   ]
  },
  {
   "cell_type": "code",
   "execution_count": 8,
   "metadata": {},
   "outputs": [
    {
     "name": "stdout",
     "output_type": "stream",
     "text": [
      "[1, 2, 3] [4, 5, 6] 131257967880\n",
      "[1, 2, 3, 4, 5, 6] 131275416840\n"
     ]
    }
   ],
   "source": [
    "# Concatenation\n",
    "# It change sthe address(id) value as it reinitializes the varible\n",
    "a = [1,2,3]\n",
    "b = [4,5,6]\n",
    "print(a,b,id(a))\n",
    "a = a+b\n",
    "print(a,id(a))"
   ]
  },
  {
   "cell_type": "markdown",
   "metadata": {},
   "source": [
    "## Indexing and Slicing\n",
    "\n",
    "* It works the same way it worked on strings"
   ]
  },
  {
   "cell_type": "code",
   "execution_count": 9,
   "metadata": {},
   "outputs": [
    {
     "name": "stdout",
     "output_type": "stream",
     "text": [
      "30\n",
      "40\n",
      "[30, 40, 50]\n",
      "[20, 40]\n"
     ]
    }
   ],
   "source": [
    "a = [10,20,30,40,50,60]\n",
    "print(a[2])\n",
    "print(a[-3])\n",
    "\n",
    "print(a[2:5])\n",
    "print(a[1:5:2])"
   ]
  },
  {
   "cell_type": "code",
   "execution_count": 12,
   "metadata": {},
   "outputs": [
    {
     "name": "stdout",
     "output_type": "stream",
     "text": [
      "[[10, 20], ['HELLO', 'PYTHON']] 2\n",
      "[10, 20]\n",
      "10\n",
      "H\n"
     ]
    }
   ],
   "source": [
    "a = [[10,20],[\"HELLO\",\"PYTHON\"]]\n",
    "print(a,len(a))\n",
    "print(a[0])\n",
    "#b = a[0]\n",
    "#print(b[0])\n",
    "# Handling indexing in a matrix form\n",
    "print(a[0][0])\n",
    "\n",
    "print(a[1][0][0])"
   ]
  },
  {
   "cell_type": "markdown",
   "metadata": {},
   "source": [
    "## List Methods"
   ]
  },
  {
   "cell_type": "code",
   "execution_count": 13,
   "metadata": {
    "collapsed": true
   },
   "outputs": [
    {
     "data": {
      "text/plain": [
       "['__add__',\n",
       " '__class__',\n",
       " '__contains__',\n",
       " '__delattr__',\n",
       " '__delitem__',\n",
       " '__dir__',\n",
       " '__doc__',\n",
       " '__eq__',\n",
       " '__format__',\n",
       " '__ge__',\n",
       " '__getattribute__',\n",
       " '__getitem__',\n",
       " '__gt__',\n",
       " '__hash__',\n",
       " '__iadd__',\n",
       " '__imul__',\n",
       " '__init__',\n",
       " '__init_subclass__',\n",
       " '__iter__',\n",
       " '__le__',\n",
       " '__len__',\n",
       " '__lt__',\n",
       " '__mul__',\n",
       " '__ne__',\n",
       " '__new__',\n",
       " '__reduce__',\n",
       " '__reduce_ex__',\n",
       " '__repr__',\n",
       " '__reversed__',\n",
       " '__rmul__',\n",
       " '__setattr__',\n",
       " '__setitem__',\n",
       " '__sizeof__',\n",
       " '__str__',\n",
       " '__subclasshook__',\n",
       " 'append',\n",
       " 'clear',\n",
       " 'copy',\n",
       " 'count',\n",
       " 'extend',\n",
       " 'index',\n",
       " 'insert',\n",
       " 'pop',\n",
       " 'remove',\n",
       " 'reverse',\n",
       " 'sort']"
      ]
     },
     "execution_count": 13,
     "metadata": {},
     "output_type": "execute_result"
    }
   ],
   "source": [
    "dir(list)"
   ]
  },
  {
   "cell_type": "code",
   "execution_count": 14,
   "metadata": {
    "collapsed": true
   },
   "outputs": [
    {
     "name": "stdout",
     "output_type": "stream",
     "text": [
      "Help on class list in module builtins:\n",
      "\n",
      "class list(object)\n",
      " |  list(iterable=(), /)\n",
      " |  \n",
      " |  Built-in mutable sequence.\n",
      " |  \n",
      " |  If no argument is given, the constructor creates a new empty list.\n",
      " |  The argument must be an iterable if specified.\n",
      " |  \n",
      " |  Methods defined here:\n",
      " |  \n",
      " |  __add__(self, value, /)\n",
      " |      Return self+value.\n",
      " |  \n",
      " |  __contains__(self, key, /)\n",
      " |      Return key in self.\n",
      " |  \n",
      " |  __delitem__(self, key, /)\n",
      " |      Delete self[key].\n",
      " |  \n",
      " |  __eq__(self, value, /)\n",
      " |      Return self==value.\n",
      " |  \n",
      " |  __ge__(self, value, /)\n",
      " |      Return self>=value.\n",
      " |  \n",
      " |  __getattribute__(self, name, /)\n",
      " |      Return getattr(self, name).\n",
      " |  \n",
      " |  __getitem__(...)\n",
      " |      x.__getitem__(y) <==> x[y]\n",
      " |  \n",
      " |  __gt__(self, value, /)\n",
      " |      Return self>value.\n",
      " |  \n",
      " |  __iadd__(self, value, /)\n",
      " |      Implement self+=value.\n",
      " |  \n",
      " |  __imul__(self, value, /)\n",
      " |      Implement self*=value.\n",
      " |  \n",
      " |  __init__(self, /, *args, **kwargs)\n",
      " |      Initialize self.  See help(type(self)) for accurate signature.\n",
      " |  \n",
      " |  __iter__(self, /)\n",
      " |      Implement iter(self).\n",
      " |  \n",
      " |  __le__(self, value, /)\n",
      " |      Return self<=value.\n",
      " |  \n",
      " |  __len__(self, /)\n",
      " |      Return len(self).\n",
      " |  \n",
      " |  __lt__(self, value, /)\n",
      " |      Return self<value.\n",
      " |  \n",
      " |  __mul__(self, value, /)\n",
      " |      Return self*value.\n",
      " |  \n",
      " |  __ne__(self, value, /)\n",
      " |      Return self!=value.\n",
      " |  \n",
      " |  __repr__(self, /)\n",
      " |      Return repr(self).\n",
      " |  \n",
      " |  __reversed__(self, /)\n",
      " |      Return a reverse iterator over the list.\n",
      " |  \n",
      " |  __rmul__(self, value, /)\n",
      " |      Return value*self.\n",
      " |  \n",
      " |  __setitem__(self, key, value, /)\n",
      " |      Set self[key] to value.\n",
      " |  \n",
      " |  __sizeof__(self, /)\n",
      " |      Return the size of the list in memory, in bytes.\n",
      " |  \n",
      " |  append(self, object, /)\n",
      " |      Append object to the end of the list.\n",
      " |  \n",
      " |  clear(self, /)\n",
      " |      Remove all items from list.\n",
      " |  \n",
      " |  copy(self, /)\n",
      " |      Return a shallow copy of the list.\n",
      " |  \n",
      " |  count(self, value, /)\n",
      " |      Return number of occurrences of value.\n",
      " |  \n",
      " |  extend(self, iterable, /)\n",
      " |      Extend list by appending elements from the iterable.\n",
      " |  \n",
      " |  index(self, value, start=0, stop=9223372036854775807, /)\n",
      " |      Return first index of value.\n",
      " |      \n",
      " |      Raises ValueError if the value is not present.\n",
      " |  \n",
      " |  insert(self, index, object, /)\n",
      " |      Insert object before index.\n",
      " |  \n",
      " |  pop(self, index=-1, /)\n",
      " |      Remove and return item at index (default last).\n",
      " |      \n",
      " |      Raises IndexError if list is empty or index is out of range.\n",
      " |  \n",
      " |  remove(self, value, /)\n",
      " |      Remove first occurrence of value.\n",
      " |      \n",
      " |      Raises ValueError if the value is not present.\n",
      " |  \n",
      " |  reverse(self, /)\n",
      " |      Reverse *IN PLACE*.\n",
      " |  \n",
      " |  sort(self, /, *, key=None, reverse=False)\n",
      " |      Stable sort *IN PLACE*.\n",
      " |  \n",
      " |  ----------------------------------------------------------------------\n",
      " |  Static methods defined here:\n",
      " |  \n",
      " |  __new__(*args, **kwargs) from builtins.type\n",
      " |      Create and return a new object.  See help(type) for accurate signature.\n",
      " |  \n",
      " |  ----------------------------------------------------------------------\n",
      " |  Data and other attributes defined here:\n",
      " |  \n",
      " |  __hash__ = None\n",
      "\n"
     ]
    }
   ],
   "source": [
    "help(list)"
   ]
  },
  {
   "cell_type": "code",
   "execution_count": 16,
   "metadata": {},
   "outputs": [
    {
     "name": "stdout",
     "output_type": "stream",
     "text": [
      "Help on method_descriptor:\n",
      "\n",
      "pop(self, index=-1, /)\n",
      "    Remove and return item at index (default last).\n",
      "    \n",
      "    Raises IndexError if list is empty or index is out of range.\n",
      "\n"
     ]
    }
   ],
   "source": [
    "help(list.pop)"
   ]
  },
  {
   "cell_type": "code",
   "execution_count": 17,
   "metadata": {},
   "outputs": [
    {
     "name": "stdout",
     "output_type": "stream",
     "text": [
      "Help on method_descriptor:\n",
      "\n",
      "append(self, object, /)\n",
      "    Append object to the end of the list.\n",
      "\n"
     ]
    }
   ],
   "source": [
    "help(list.append)"
   ]
  },
  {
   "cell_type": "code",
   "execution_count": 19,
   "metadata": {},
   "outputs": [
    {
     "name": "stdout",
     "output_type": "stream",
     "text": [
      "[10, 20, 30] 131274659464\n",
      "[10, 20, 30, 40] None\n",
      "[10, 20, 30, 40, [1, 2, 3]]\n",
      "[10, 20, 30, 40, [1, 2, 3], 'HELLO']\n",
      "[10, 40, 20, 30, 40, [1, 2, 3], 'HELLO']\n",
      "[10, 40, 20, 30, 40, [1, 2, 3], 'HELLO'] 2\n",
      "[10, 40, 20, 30, 40, [1, 2, 3], 'HELLO'] 1\n",
      "[10, 20, 30, 40, [1, 2, 3], 'HELLO']\n",
      "[10, 20, 30, 40, [1, 2, 3]] HELLO\n",
      "[10, 30, 40, [1, 2, 3]] 20\n",
      "[] 131274659464\n"
     ]
    }
   ],
   "source": [
    "a = [10,20,30]\n",
    "print(a,id(a))\n",
    "# Append method adds items to end of the list\n",
    "b = a.append(40)\n",
    "print(a,b)\n",
    "a.append([1,2,3])\n",
    "print(a)\n",
    "a.append('HELLO')\n",
    "print(a)\n",
    "# Insert method ads item to the index position mentioned.\n",
    "# index(index,value)\n",
    "a.insert(1,40)\n",
    "print(a)\n",
    "b = a.count(40)\n",
    "print(a,b)\n",
    "b = a.index(40)\n",
    "print(a,b)\n",
    "# Remove method deltes the values passed as an argument\n",
    "# It value does not exist an error is displayed\n",
    "a.remove(40)\n",
    "print(a)\n",
    "# Pop method removes the item at particular index; by default last\n",
    "b = a.pop()\n",
    "print(a,b)\n",
    "b = a.pop(1)\n",
    "print(a,b)\n",
    "#  Clear deletes the entire list and gives us an empty list\n",
    "a.clear()\n",
    "print(a,id(a))"
   ]
  },
  {
   "cell_type": "code",
   "execution_count": 20,
   "metadata": {},
   "outputs": [
    {
     "name": "stdout",
     "output_type": "stream",
     "text": [
      "[1, 2, 3] [4, 5, 6] 131275292488\n",
      "[1, 2, 3, 4, 5, 6] 131275415880\n"
     ]
    }
   ],
   "source": [
    "a = [1,2,3]\n",
    "b = [4,5,6]\n",
    "print(a,b,id(a))\n",
    "a = a+b\n",
    "print(a,id(a))"
   ]
  },
  {
   "cell_type": "code",
   "execution_count": 22,
   "metadata": {},
   "outputs": [
    {
     "name": "stdout",
     "output_type": "stream",
     "text": [
      "[1, 2, 3] [4, 5, 6] 131277548232\n",
      "[1, 2, 3, 4, 5, 6] 131277548232\n"
     ]
    }
   ],
   "source": [
    "# Extend method concatenates without changing the orginal address\n",
    "a = [1,2,3]\n",
    "b = [4,5,6]\n",
    "print(a,b,id(a))\n",
    "a.extend(b)\n",
    "print(a,id(a))"
   ]
  },
  {
   "cell_type": "code",
   "execution_count": 23,
   "metadata": {},
   "outputs": [
    {
     "name": "stdout",
     "output_type": "stream",
     "text": [
      "[25, 28, 15, 13, 21, 6] 131277627272\n",
      "[6, 21, 13, 15, 28, 25] 131277548232\n"
     ]
    }
   ],
   "source": [
    "a = [25, 28, 15, 13, 21, 6]\n",
    "print(a,id(a))\n",
    "a = a[::-1]\n",
    "print(a,id(a))"
   ]
  },
  {
   "cell_type": "code",
   "execution_count": 24,
   "metadata": {},
   "outputs": [
    {
     "name": "stdout",
     "output_type": "stream",
     "text": [
      "Help on method_descriptor:\n",
      "\n",
      "reverse(self, /)\n",
      "    Reverse *IN PLACE*.\n",
      "\n"
     ]
    }
   ],
   "source": [
    "help(list.reverse)"
   ]
  },
  {
   "cell_type": "code",
   "execution_count": 25,
   "metadata": {},
   "outputs": [
    {
     "name": "stdout",
     "output_type": "stream",
     "text": [
      "[25, 28, 15, 13, 21, 6] 131275416584\n",
      "[6, 21, 13, 15, 28, 25] 131275416584\n"
     ]
    }
   ],
   "source": [
    "a = [25, 28, 15, 13, 21, 6]\n",
    "print(a,id(a))\n",
    "a.reverse()\n",
    "print(a,id(a))"
   ]
  },
  {
   "cell_type": "code",
   "execution_count": 26,
   "metadata": {},
   "outputs": [
    {
     "name": "stdout",
     "output_type": "stream",
     "text": [
      "Help on method_descriptor:\n",
      "\n",
      "sort(self, /, *, key=None, reverse=False)\n",
      "    Stable sort *IN PLACE*.\n",
      "\n"
     ]
    }
   ],
   "source": [
    "help(list.sort)"
   ]
  },
  {
   "cell_type": "code",
   "execution_count": 28,
   "metadata": {},
   "outputs": [
    {
     "name": "stdout",
     "output_type": "stream",
     "text": [
      "[25, 28, 15, 13, 21, 6]\n",
      "[6, 13, 15, 21, 25, 28]\n",
      "[28, 25, 21, 15, 13, 6]\n"
     ]
    }
   ],
   "source": [
    "a = [25, 28, 15, 13, 21, 6]\n",
    "print(a)\n",
    "a.sort()\n",
    "print(a)\n",
    "# To get sorting order in descending order\n",
    "a.sort(reverse=True)\n",
    "print(a)"
   ]
  },
  {
   "cell_type": "code",
   "execution_count": 30,
   "metadata": {},
   "outputs": [
    {
     "name": "stdout",
     "output_type": "stream",
     "text": [
      "['ze', 'bcdefg', 'axe', 'defg']\n",
      "['axe', 'bcdefg', 'defg', 'ze']\n",
      "['ze', 'axe', 'defg', 'bcdefg']\n"
     ]
    }
   ],
   "source": [
    "a = ['ze','bcdefg','axe','defg']\n",
    "print(a)\n",
    "# Sorting alphabetically\n",
    "a.sort()\n",
    "print(a)\n",
    "# Key argument is used to customize the sort order\n",
    "# We are now sorting using length of the items\n",
    "a.sort(key=len)\n",
    "print(a)"
   ]
  },
  {
   "cell_type": "markdown",
   "metadata": {},
   "source": [
    "## Shallow Copy\n",
    "\n",
    "This is required so that we can create a copy of the original list and do not modify it using another variable.\n",
    "\n",
    "Example : "
   ]
  },
  {
   "cell_type": "code",
   "execution_count": 31,
   "metadata": {},
   "outputs": [
    {
     "name": "stdout",
     "output_type": "stream",
     "text": [
      "[10, 20, 30] [10, 20, 30]\n",
      "131274611784 131274611784\n",
      "True\n",
      "True\n",
      "[50, 20, 30] [50, 20, 30]\n"
     ]
    }
   ],
   "source": [
    "a = [10,20,30]\n",
    "b = a # b is a reference to a\n",
    "print(a,b)\n",
    "print(id(a),id(b))\n",
    "print(a == b)\n",
    "print(a is b)\n",
    "b[0] = 50\n",
    "# You can see that both list a and b gets modified\n",
    "print(a,b)"
   ]
  },
  {
   "cell_type": "code",
   "execution_count": 33,
   "metadata": {},
   "outputs": [
    {
     "name": "stdout",
     "output_type": "stream",
     "text": [
      "[10, 20, 30] [10, 20, 30]\n",
      "131274611784 131277577608\n",
      "True\n",
      "False\n",
      "[10, 20, 30] [50, 20, 30]\n"
     ]
    }
   ],
   "source": [
    "a = [10,20,30]\n",
    "b = a.copy() # b is a shallow copy of a\n",
    "print(a,b)\n",
    "print(id(a),id(b))\n",
    "print(a == b)\n",
    "print(a is b)\n",
    "b[0] = 50\n",
    "# Only list b gets modified\n",
    "print(a,b)"
   ]
  },
  {
   "cell_type": "markdown",
   "metadata": {},
   "source": [
    "### Tuples (Immutable Lists)\n",
    "\n",
    "* Denoted by ( ) and items are separated using a ,\n",
    "* Concatenation\n",
    "* Indexing, SLicing\n",
    "* Methods -> Count, Index\n",
    "* Genrally faster than lists"
   ]
  },
  {
   "cell_type": "code",
   "execution_count": 34,
   "metadata": {},
   "outputs": [
    {
     "name": "stdout",
     "output_type": "stream",
     "text": [
      "(10, 20, 30) <class 'tuple'>\n"
     ]
    }
   ],
   "source": [
    "a = (10,20,30)\n",
    "print(a,type(a))\n",
    "# Below statement will give an error as tuples are immutable\n",
    "#a[0] = 40\n"
   ]
  },
  {
   "cell_type": "code",
   "execution_count": 1,
   "metadata": {},
   "outputs": [
    {
     "data": {
      "text/plain": [
       "['__add__',\n",
       " '__class__',\n",
       " '__contains__',\n",
       " '__delattr__',\n",
       " '__dir__',\n",
       " '__doc__',\n",
       " '__eq__',\n",
       " '__format__',\n",
       " '__ge__',\n",
       " '__getattribute__',\n",
       " '__getitem__',\n",
       " '__getnewargs__',\n",
       " '__gt__',\n",
       " '__hash__',\n",
       " '__init__',\n",
       " '__init_subclass__',\n",
       " '__iter__',\n",
       " '__le__',\n",
       " '__len__',\n",
       " '__lt__',\n",
       " '__mul__',\n",
       " '__ne__',\n",
       " '__new__',\n",
       " '__reduce__',\n",
       " '__reduce_ex__',\n",
       " '__repr__',\n",
       " '__rmul__',\n",
       " '__setattr__',\n",
       " '__sizeof__',\n",
       " '__str__',\n",
       " '__subclasshook__',\n",
       " 'count',\n",
       " 'index']"
      ]
     },
     "execution_count": 1,
     "metadata": {},
     "output_type": "execute_result"
    }
   ],
   "source": [
    "dir(tuple)"
   ]
  },
  {
   "cell_type": "code",
   "execution_count": 36,
   "metadata": {},
   "outputs": [
    {
     "name": "stdout",
     "output_type": "stream",
     "text": [
      "[10, 20, 30, 40, 50, 60] <class 'list'>\n",
      "(10, 20, 30, 40, 50, 60) <class 'tuple'>\n"
     ]
    }
   ],
   "source": [
    "a = [10,20,30,40,50,60]\n",
    "print(a,type(a))\n",
    "a = tuple(a)\n",
    "print(a,type(a))"
   ]
  },
  {
   "cell_type": "code",
   "execution_count": 37,
   "metadata": {},
   "outputs": [
    {
     "name": "stdout",
     "output_type": "stream",
     "text": [
      "10\n",
      "(30, 40, 50, 60)\n"
     ]
    }
   ],
   "source": [
    "a = (10, 20, 30, 40, 50, 60)\n",
    "print(a[0])\n",
    "print(a[2:5+1])"
   ]
  },
  {
   "cell_type": "code",
   "execution_count": 38,
   "metadata": {},
   "outputs": [
    {
     "name": "stdout",
     "output_type": "stream",
     "text": [
      "(1, 2, 3) (4, 5, 6) 131275485544\n",
      "(1, 2, 3, 4, 5, 6) 131275169320\n"
     ]
    }
   ],
   "source": [
    "a = (1,2,3)\n",
    "b = (4,5,6)\n",
    "print(a,b,id(a))\n",
    "a = a+b\n",
    "print(a,id(a))"
   ]
  },
  {
   "cell_type": "code",
   "execution_count": null,
   "metadata": {},
   "outputs": [],
   "source": []
  }
 ],
 "metadata": {
  "kernelspec": {
   "display_name": "Python 3",
   "language": "python",
   "name": "python3"
  },
  "language_info": {
   "codemirror_mode": {
    "name": "ipython",
    "version": 3
   },
   "file_extension": ".py",
   "mimetype": "text/x-python",
   "name": "python",
   "nbconvert_exporter": "python",
   "pygments_lexer": "ipython3",
   "version": "3.7.4"
  }
 },
 "nbformat": 4,
 "nbformat_minor": 2
}
