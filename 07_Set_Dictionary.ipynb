{
 "cells": [
  {
   "cell_type": "markdown",
   "metadata": {},
   "source": [
    "### Set (Mutable)\n",
    "\n",
    "* Denoted by { } and items are separated using a ,\n",
    "* No indexing, no order\n",
    "* No duplicates ie. only unique items\n",
    "* Only immutable objects allowed\n",
    "* a = set() -> Empty Set\n",
    "* Methods"
   ]
  },
  {
   "cell_type": "code",
   "execution_count": 1,
   "metadata": {},
   "outputs": [
    {
     "name": "stdout",
     "output_type": "stream",
     "text": [
      "set() <class 'set'> 0\n"
     ]
    }
   ],
   "source": [
    "s = set()\n",
    "print(s,type(s),len(s))"
   ]
  },
  {
   "cell_type": "code",
   "execution_count": 2,
   "metadata": {},
   "outputs": [
    {
     "name": "stdout",
     "output_type": "stream",
     "text": [
      "{40, 10, 50, 20, 30} <class 'set'>\n"
     ]
    }
   ],
   "source": [
    "s = {10,20,30,40,50}\n",
    "print(s,type(s))"
   ]
  },
  {
   "cell_type": "code",
   "execution_count": 4,
   "metadata": {},
   "outputs": [
    {
     "name": "stdout",
     "output_type": "stream",
     "text": [
      "PYTHON <class 'str'>\n",
      "['P', 'Y', 'T', 'H', 'O', 'N'] <class 'list'>\n",
      "{'N', 'Y', 'O', 'H', 'T', 'P'} <class 'set'>\n"
     ]
    }
   ],
   "source": [
    "# Set are unordered as they dont have any indexing\n",
    "# Lists are ordered\n",
    "a = 'PYTHON'\n",
    "print(a,type(a))\n",
    "b = list(a)\n",
    "print(b,type(b))\n",
    "c = set(a)\n",
    "print(c,type(c))"
   ]
  },
  {
   "cell_type": "code",
   "execution_count": 5,
   "metadata": {},
   "outputs": [
    {
     "name": "stdout",
     "output_type": "stream",
     "text": [
      "HELLO <class 'str'>\n",
      "['H', 'E', 'L', 'L', 'O'] <class 'list'>\n",
      "{'H', 'L', 'O', 'E'} <class 'set'>\n"
     ]
    }
   ],
   "source": [
    "a = 'HELLO'\n",
    "print(a,type(a))\n",
    "b = list(a)\n",
    "print(b,type(b))\n",
    "c = set(a)\n",
    "print(c,type(c))"
   ]
  },
  {
   "cell_type": "code",
   "execution_count": 8,
   "metadata": {},
   "outputs": [
    {
     "name": "stdout",
     "output_type": "stream",
     "text": [
      "[1, 2, 3, 4, 4, 1, 2, 1, 2, 3, 1, 2, 3, 1, 2, 1, 2, 1] <class 'list'>\n"
     ]
    }
   ],
   "source": [
    "a = [1,2,3,4,4,1,2,1,2,3,1,2,3,1,2,1,2,1]\n",
    "print(a,type(a))"
   ]
  },
  {
   "cell_type": "code",
   "execution_count": 9,
   "metadata": {},
   "outputs": [
    {
     "name": "stdout",
     "output_type": "stream",
     "text": [
      "{1, 2, 3, 4} <class 'set'>\n"
     ]
    }
   ],
   "source": [
    "s = {1,2,3,4,4,1,2,1,2,3,1,2,3,1,2,1,2,1}\n",
    "print(s,type(s))"
   ]
  },
  {
   "cell_type": "code",
   "execution_count": 13,
   "metadata": {},
   "outputs": [
    {
     "name": "stdout",
     "output_type": "stream",
     "text": [
      "{'HELLO', 1, (10, 20, 30), 1.45}\n"
     ]
    }
   ],
   "source": [
    "s = {1,1.45,'HELLO',(10,20,30)}\n",
    "print(s)\n",
    "# Below Statement will give an Error as set only allows\n",
    "# Immutable objects and list is mutable\n",
    "#s = {1,1.45,'HELLO',(10,20,30),[12,3]}\n",
    "#print(s)"
   ]
  },
  {
   "cell_type": "markdown",
   "metadata": {},
   "source": [
    "## Properties of Set"
   ]
  },
  {
   "cell_type": "code",
   "execution_count": 14,
   "metadata": {},
   "outputs": [
    {
     "name": "stdout",
     "output_type": "stream",
     "text": [
      "{1, 2, 3, 4, 5, 6, 7}\n",
      "{1, 2, 3, 4, 5, 6, 7}\n",
      "{4, 5}\n",
      "{4, 5}\n",
      "{1, 2, 3}\n",
      "{1, 2, 3}\n",
      "{6, 7}\n",
      "{6, 7}\n",
      "{1, 2, 3, 6, 7}\n",
      "{1, 2, 3, 6, 7}\n"
     ]
    }
   ],
   "source": [
    "s1 = {1,2,3,4,5}\n",
    "s2 = {4,5,6,7}\n",
    "\n",
    "# Union\n",
    "print(s1.union(s2))\n",
    "print(s1 | s2)\n",
    "\n",
    "# Intersection\n",
    "print(s1.intersection(s2))\n",
    "print(s1&s2)\n",
    "\n",
    "# Difference\n",
    "print(s1.difference(s2))\n",
    "print(s1 - s2)\n",
    "print(s2.difference(s1))\n",
    "print(s2 - s1)\n",
    "\n",
    "# Symmetric Difference\n",
    "print(s1.symmetric_difference(s2))\n",
    "print(s1^s2)"
   ]
  },
  {
   "cell_type": "code",
   "execution_count": 19,
   "metadata": {},
   "outputs": [
    {
     "name": "stdout",
     "output_type": "stream",
     "text": [
      "True\n",
      "True\n",
      "False\n",
      "True\n"
     ]
    }
   ],
   "source": [
    "s = {1,2,3,4,5,6}\n",
    "s1 = {1,2,3}\n",
    "s2 = {8,9}\n",
    "print(s1.issubset(s))\n",
    "print(s.issuperset(s1))\n",
    "print(s1.isdisjoint(s))\n",
    "print(s2.isdisjoint(s))"
   ]
  },
  {
   "cell_type": "code",
   "execution_count": 20,
   "metadata": {},
   "outputs": [
    {
     "name": "stdout",
     "output_type": "stream",
     "text": [
      "{'H', 'O'}\n"
     ]
    }
   ],
   "source": [
    "a = 'PYTHON'\n",
    "b = 'HELLO'\n",
    "\n",
    "print(set(a).intersection(set(b)))"
   ]
  },
  {
   "cell_type": "code",
   "execution_count": 21,
   "metadata": {},
   "outputs": [
    {
     "name": "stdout",
     "output_type": "stream",
     "text": [
      "{'EXAMPLE', 'ANT'}\n"
     ]
    }
   ],
   "source": [
    "a = 'THIS IS AN EXAMPLE'\n",
    "b = 'THIS IS AN ANT'\n",
    "\n",
    "print(set(a.split()).symmetric_difference(set(b.split())))"
   ]
  },
  {
   "cell_type": "markdown",
   "metadata": {},
   "source": [
    "### Set methods"
   ]
  },
  {
   "cell_type": "code",
   "execution_count": 22,
   "metadata": {
    "collapsed": true
   },
   "outputs": [
    {
     "data": {
      "text/plain": [
       "['__and__',\n",
       " '__class__',\n",
       " '__contains__',\n",
       " '__delattr__',\n",
       " '__dir__',\n",
       " '__doc__',\n",
       " '__eq__',\n",
       " '__format__',\n",
       " '__ge__',\n",
       " '__getattribute__',\n",
       " '__gt__',\n",
       " '__hash__',\n",
       " '__iand__',\n",
       " '__init__',\n",
       " '__init_subclass__',\n",
       " '__ior__',\n",
       " '__isub__',\n",
       " '__iter__',\n",
       " '__ixor__',\n",
       " '__le__',\n",
       " '__len__',\n",
       " '__lt__',\n",
       " '__ne__',\n",
       " '__new__',\n",
       " '__or__',\n",
       " '__rand__',\n",
       " '__reduce__',\n",
       " '__reduce_ex__',\n",
       " '__repr__',\n",
       " '__ror__',\n",
       " '__rsub__',\n",
       " '__rxor__',\n",
       " '__setattr__',\n",
       " '__sizeof__',\n",
       " '__str__',\n",
       " '__sub__',\n",
       " '__subclasshook__',\n",
       " '__xor__',\n",
       " 'add',\n",
       " 'clear',\n",
       " 'copy',\n",
       " 'difference',\n",
       " 'difference_update',\n",
       " 'discard',\n",
       " 'intersection',\n",
       " 'intersection_update',\n",
       " 'isdisjoint',\n",
       " 'issubset',\n",
       " 'issuperset',\n",
       " 'pop',\n",
       " 'remove',\n",
       " 'symmetric_difference',\n",
       " 'symmetric_difference_update',\n",
       " 'union',\n",
       " 'update']"
      ]
     },
     "execution_count": 22,
     "metadata": {},
     "output_type": "execute_result"
    }
   ],
   "source": [
    "dir(set)"
   ]
  },
  {
   "cell_type": "code",
   "execution_count": 24,
   "metadata": {},
   "outputs": [
    {
     "name": "stdout",
     "output_type": "stream",
     "text": [
      "set() 835093989192\n",
      "{10}\n",
      "{10, 100}\n",
      "{10, 'hello', 100}\n",
      "{10, 'hello', 100, 50}\n",
      "{10, 'hello', 50}\n",
      "{10, 'hello'}\n",
      "10\n",
      "{'hello'} 835093989192\n",
      "set()\n"
     ]
    }
   ],
   "source": [
    "s = set()\n",
    "print(s,id(s))\n",
    "s.add(10)\n",
    "print(s)\n",
    "s.add(100)\n",
    "print(s)\n",
    "s.add('hello')\n",
    "print(s)\n",
    "s.add(50)\n",
    "print(s)\n",
    "# Remove will give an error is element does not exist in set\n",
    "s.remove(100)\n",
    "print(s)\n",
    "# Discard will not give an error when element does not exist in set\n",
    "s.discard(50)\n",
    "print(s)\n",
    "b = s.pop()\n",
    "print(b)\n",
    "print(s,id(s))\n",
    "s.clear()\n",
    "print(s)"
   ]
  },
  {
   "cell_type": "code",
   "execution_count": 25,
   "metadata": {},
   "outputs": [
    {
     "name": "stdout",
     "output_type": "stream",
     "text": [
      "Help on method_descriptor:\n",
      "\n",
      "pop(...)\n",
      "    Remove and return an arbitrary set element.\n",
      "    Raises KeyError if the set is empty.\n",
      "\n",
      "Help on method_descriptor:\n",
      "\n",
      "discard(...)\n",
      "    Remove an element from a set if it is a member.\n",
      "    \n",
      "    If the element is not a member, do nothing.\n",
      "\n",
      "Help on method_descriptor:\n",
      "\n",
      "remove(...)\n",
      "    Remove an element from a set; it must be a member.\n",
      "    \n",
      "    If the element is not a member, raise a KeyError.\n",
      "\n"
     ]
    }
   ],
   "source": [
    "help(set.pop)\n",
    "help(set.discard)\n",
    "help(set.remove)"
   ]
  },
  {
   "cell_type": "markdown",
   "metadata": {},
   "source": [
    "### Frozenset( Immutable Set)"
   ]
  },
  {
   "cell_type": "code",
   "execution_count": 26,
   "metadata": {
    "collapsed": true
   },
   "outputs": [
    {
     "data": {
      "text/plain": [
       "['__and__',\n",
       " '__class__',\n",
       " '__contains__',\n",
       " '__delattr__',\n",
       " '__dir__',\n",
       " '__doc__',\n",
       " '__eq__',\n",
       " '__format__',\n",
       " '__ge__',\n",
       " '__getattribute__',\n",
       " '__gt__',\n",
       " '__hash__',\n",
       " '__init__',\n",
       " '__init_subclass__',\n",
       " '__iter__',\n",
       " '__le__',\n",
       " '__len__',\n",
       " '__lt__',\n",
       " '__ne__',\n",
       " '__new__',\n",
       " '__or__',\n",
       " '__rand__',\n",
       " '__reduce__',\n",
       " '__reduce_ex__',\n",
       " '__repr__',\n",
       " '__ror__',\n",
       " '__rsub__',\n",
       " '__rxor__',\n",
       " '__setattr__',\n",
       " '__sizeof__',\n",
       " '__str__',\n",
       " '__sub__',\n",
       " '__subclasshook__',\n",
       " '__xor__',\n",
       " 'copy',\n",
       " 'difference',\n",
       " 'intersection',\n",
       " 'isdisjoint',\n",
       " 'issubset',\n",
       " 'issuperset',\n",
       " 'symmetric_difference',\n",
       " 'union']"
      ]
     },
     "execution_count": 26,
     "metadata": {},
     "output_type": "execute_result"
    }
   ],
   "source": [
    "dir(frozenset)"
   ]
  },
  {
   "cell_type": "code",
   "execution_count": 27,
   "metadata": {},
   "outputs": [
    {
     "name": "stdout",
     "output_type": "stream",
     "text": [
      "frozenset({1, 2, 3}) <class 'frozenset'>\n"
     ]
    }
   ],
   "source": [
    "s = frozenset({1,2,3})\n",
    "print(s,type(s))"
   ]
  },
  {
   "cell_type": "markdown",
   "metadata": {},
   "source": [
    "### Dictionary ( Mutable )\n",
    "\n",
    "* Denoted by {key:value, ..} and items are separated using a ,\n",
    "* No indexing\n",
    "* No order\n",
    "* d = { } -> Empty Dictionary\n",
    "* Example -> d = {'a':10,'b':20,20:'c'}\n",
    "* Items can be accessed using keys as index. Ex: d['a']->10\n",
    "* keys:\n",
    "    * Immutable objects\n",
    "    * No duplicates"
   ]
  },
  {
   "cell_type": "code",
   "execution_count": 28,
   "metadata": {},
   "outputs": [
    {
     "name": "stdout",
     "output_type": "stream",
     "text": [
      "{} <class 'dict'> 0\n"
     ]
    }
   ],
   "source": [
    "d = {}\n",
    "print(d,type(d),len(d))"
   ]
  },
  {
   "cell_type": "code",
   "execution_count": 29,
   "metadata": {},
   "outputs": [
    {
     "name": "stdout",
     "output_type": "stream",
     "text": [
      "{'a': 10, 'b': 20, 20: 'c'}\n",
      "10\n",
      "c\n"
     ]
    }
   ],
   "source": [
    "d = {'a':10,'b':20,20:'c'}\n",
    "print(d)\n",
    "print(d['a'])\n",
    "print(d[20])"
   ]
  },
  {
   "cell_type": "code",
   "execution_count": 30,
   "metadata": {},
   "outputs": [
    {
     "name": "stdout",
     "output_type": "stream",
     "text": [
      "{}\n",
      "{'a': 100}\n",
      "{'a': 100, 'b': 200}\n",
      "{'a': 150, 'b': 200}\n",
      "{'a': 150}\n"
     ]
    }
   ],
   "source": [
    "d = {}\n",
    "print(d)\n",
    "d['a'] = 100\n",
    "print(d)\n",
    "d['b'] = 200\n",
    "print(d)\n",
    "d['a'] += 50\n",
    "print(d)\n",
    "del d['b']\n",
    "print(d)"
   ]
  },
  {
   "cell_type": "code",
   "execution_count": 31,
   "metadata": {},
   "outputs": [
    {
     "name": "stdout",
     "output_type": "stream",
     "text": [
      "{'a': 50, 'b': 20, 'c': 30}\n"
     ]
    }
   ],
   "source": [
    "d = {'a':10,'b':20,'c':30,'a':50}\n",
    "print(d)"
   ]
  },
  {
   "cell_type": "markdown",
   "metadata": {},
   "source": [
    "## Dictionary methods\n",
    "\n",
    "* keys\n",
    "* values\n",
    "* items"
   ]
  },
  {
   "cell_type": "code",
   "execution_count": 34,
   "metadata": {},
   "outputs": [
    {
     "name": "stdout",
     "output_type": "stream",
     "text": [
      "{'PYTHON': 200, 'JAVA': 250, 'PHP': 150}\n",
      "dict_keys(['PYTHON', 'JAVA', 'PHP'])\n",
      "dict_values([200, 250, 150])\n",
      "dict_items([('PYTHON', 200), ('JAVA', 250), ('PHP', 150)])\n"
     ]
    }
   ],
   "source": [
    "d = {'PYTHON':200,'JAVA':250,'PHP':150}\n",
    "print(d)\n",
    "print(d.keys())\n",
    "print(d.values())\n",
    "print(d.items())"
   ]
  },
  {
   "cell_type": "code",
   "execution_count": 35,
   "metadata": {},
   "outputs": [
    {
     "name": "stdout",
     "output_type": "stream",
     "text": [
      "{'PYTHON': 200, 'JAVA': 250, 'PHP': 150}\n",
      "['PYTHON', 'JAVA', 'PHP']\n",
      "[200, 250, 150]\n",
      "[('PYTHON', 200), ('JAVA', 250), ('PHP', 150)]\n"
     ]
    }
   ],
   "source": [
    "d = {'PYTHON':200,'JAVA':250,'PHP':150}\n",
    "print(d)\n",
    "print(list(d.keys()))\n",
    "print(list(d.values()))\n",
    "print(list(d.items()))"
   ]
  },
  {
   "cell_type": "markdown",
   "metadata": {},
   "source": [
    "### Forming a dictionary using two list without Zip function"
   ]
  },
  {
   "cell_type": "code",
   "execution_count": 36,
   "metadata": {},
   "outputs": [
    {
     "name": "stdout",
     "output_type": "stream",
     "text": [
      "[('PYTHON', 200), ('JAVA', 250), ('PHP', 150)]\n",
      "{'PYTHON': 200, 'JAVA': 250, 'PHP': 150}\n"
     ]
    }
   ],
   "source": [
    "a = ['PYTHON', 'JAVA', 'PHP']\n",
    "b = [200, 250, 150]\n",
    "c = []\n",
    "n = min(len(a),len(b))\n",
    "for i in range(n):\n",
    "    c.append((a[i],b[i]))\n",
    "print(c)\n",
    "d = dict(c)\n",
    "print(d)"
   ]
  },
  {
   "cell_type": "markdown",
   "metadata": {},
   "source": [
    "### Forming a dictionary using two list using Zip function"
   ]
  },
  {
   "cell_type": "code",
   "execution_count": 37,
   "metadata": {},
   "outputs": [
    {
     "name": "stdout",
     "output_type": "stream",
     "text": [
      "[('PYTHON', 200), ('JAVA', 250), ('PHP', 150)]\n",
      "{'PYTHON': 200, 'JAVA': 250, 'PHP': 150}\n",
      "{200: 'PYTHON', 250: 'JAVA', 150: 'PHP'}\n"
     ]
    }
   ],
   "source": [
    "\n",
    "\n",
    "a = ['PYTHON', 'JAVA', 'PHP']\n",
    "b = [200, 250, 150]\n",
    "c = list(zip(a,b))\n",
    "print(c)\n",
    "d = dict(c)\n",
    "print(d)\n",
    "\n",
    "e = dict(zip(b,a))\n",
    "print(e)"
   ]
  },
  {
   "cell_type": "markdown",
   "metadata": {},
   "source": [
    "## Question\n",
    "\n",
    "Count the number of occurance of each character in a given string"
   ]
  },
  {
   "cell_type": "code",
   "execution_count": 38,
   "metadata": {},
   "outputs": [
    {
     "name": "stdout",
     "output_type": "stream",
     "text": [
      "{'a': 5, 'b': 4}\n"
     ]
    }
   ],
   "source": [
    "a = 'ababababa'\n",
    "d = {}\n",
    "\n",
    "for i in a:\n",
    "    #print(d,i)\n",
    "    if i not in d:\n",
    "        d[i] = 1\n",
    "    else:\n",
    "        d[i] += 1\n",
    "print(d)"
   ]
  },
  {
   "cell_type": "code",
   "execution_count": 39,
   "metadata": {},
   "outputs": [
    {
     "name": "stdout",
     "output_type": "stream",
     "text": [
      "{'a': 5, 'b': 4}\n"
     ]
    }
   ],
   "source": [
    "# ANother Way\n",
    "\n",
    "a = 'ababababa'\n",
    "d = {}\n",
    "\n",
    "for i in a:\n",
    "    if i not in d:\n",
    "        d[i] = a.count(i)\n",
    "print(d)"
   ]
  },
  {
   "cell_type": "markdown",
   "metadata": {},
   "source": [
    "## Iterating over a dictionary"
   ]
  },
  {
   "cell_type": "code",
   "execution_count": 40,
   "metadata": {},
   "outputs": [
    {
     "name": "stdout",
     "output_type": "stream",
     "text": [
      "PYTHON\n",
      "JAVA\n",
      "PHP\n",
      "\n",
      "PYTHON\n",
      "JAVA\n",
      "PHP\n",
      "\n",
      "200\n",
      "250\n",
      "150\n",
      "\n",
      "('PYTHON', 200)\n",
      "('JAVA', 250)\n",
      "('PHP', 150)\n",
      "\n",
      "PYTHON \t 200\n",
      "JAVA \t 250\n",
      "PHP \t 150\n",
      "\n"
     ]
    }
   ],
   "source": [
    "d = {'PYTHON': 200, 'JAVA': 250, 'PHP': 150}\n",
    "\n",
    "for i in d:\n",
    "    print(i)\n",
    "print()\n",
    "\n",
    "for i in d.keys():\n",
    "    print(i)\n",
    "print()\n",
    "\n",
    "for i in d.values():\n",
    "    print(i)\n",
    "print()\n",
    "\n",
    "for i in d.items():\n",
    "    print(i)\n",
    "print()\n",
    "\n",
    "for k,v in d.items():\n",
    "    print(k,'\\t',v)\n",
    "print()"
   ]
  },
  {
   "cell_type": "markdown",
   "metadata": {},
   "source": [
    "### Question\n",
    "\n",
    "Given a dictionary of files as keys and their owners as values, form a new dictionary where the keys are the names of the owners and the values is a list of all the files the owner has access to."
   ]
  },
  {
   "cell_type": "code",
   "execution_count": 43,
   "metadata": {},
   "outputs": [
    {
     "name": "stdout",
     "output_type": "stream",
     "text": [
      "{'Rishabh': ['test.txt'], 'Raj': ['hello.py', 'hello.java']}\n"
     ]
    }
   ],
   "source": [
    "files = {\n",
    "        'test.txt': 'Rishabh',\n",
    "        'hello.py':'Raj',\n",
    "        'hello.java' : 'Raj'\n",
    "}\n",
    "\n",
    "owners = {} # {'Rishabh':['test.txt'],'Raj':['hello.py','hello.java']}\n",
    "\n",
    "\n",
    "\n",
    "# Solution\n",
    "\n",
    "for file,owner in files.items():\n",
    "    if owner not in owners:\n",
    "        owners[owner] = [file]\n",
    "    else:\n",
    "        owners[owner].append(file)\n",
    "print(owners)"
   ]
  },
  {
   "cell_type": "markdown",
   "metadata": {},
   "source": [
    "### Dictionary Comprehension"
   ]
  },
  {
   "cell_type": "code",
   "execution_count": 44,
   "metadata": {},
   "outputs": [
    {
     "name": "stdout",
     "output_type": "stream",
     "text": [
      "{1: 1, 2: 4, 3: 9, 4: 16, 5: 25}\n"
     ]
    }
   ],
   "source": [
    "n = 5\n",
    "d = {}\n",
    "for i in range(1,n+1):\n",
    "    d[i] = i**2\n",
    "print(d)"
   ]
  },
  {
   "cell_type": "code",
   "execution_count": 46,
   "metadata": {},
   "outputs": [
    {
     "name": "stdout",
     "output_type": "stream",
     "text": [
      "{1: 1, 2: 4, 3: 9, 4: 16, 5: 25}\n"
     ]
    }
   ],
   "source": [
    "# Using Dictionary Comprehension\n",
    "n = 5\n",
    "d = {i:i**2 for i in range(1,n+1)}\n",
    "print(d)"
   ]
  },
  {
   "cell_type": "code",
   "execution_count": 47,
   "metadata": {},
   "outputs": [
    {
     "name": "stdout",
     "output_type": "stream",
     "text": [
      "{'T': 'THIS', 'I': 'IS', 'A': 'AN', 'E': 'EXAMPLE'}\n"
     ]
    }
   ],
   "source": [
    "a = 'THIS IS AN EXAMPLE'\n",
    "d = {}\n",
    "for i in a.split():\n",
    "    d[i[0]] = i\n",
    "print(d)"
   ]
  },
  {
   "cell_type": "code",
   "execution_count": 48,
   "metadata": {},
   "outputs": [
    {
     "name": "stdout",
     "output_type": "stream",
     "text": [
      "{'T': 'THIS', 'I': 'IS', 'A': 'AN', 'E': 'EXAMPLE'}\n"
     ]
    }
   ],
   "source": [
    "# Using Dictionary Comprehension\n",
    "a = 'THIS IS AN EXAMPLE'\n",
    "d = {i[0]:i for i in a.split()}\n",
    "print(d)"
   ]
  },
  {
   "cell_type": "code",
   "execution_count": 49,
   "metadata": {},
   "outputs": [
    {
     "name": "stdout",
     "output_type": "stream",
     "text": [
      "{'.html5': 'HTML', '.html': 'HTML', '.htm': 'HTML', '.xhtml': 'HTML', '.txt': 'PLAINTEXT', '.in': 'PLAINTEXT', '.out': 'PLAINTEXT', '.pdf': 'PDF', '.py': 'PYTHON'}\n"
     ]
    }
   ],
   "source": [
    "DIRECTORIES = {\n",
    "    \"HTML\": [\".html5\", \".html\", \".htm\", \".xhtml\"],\n",
    "    \"PLAINTEXT\": [\".txt\", \".in\", \".out\"],\n",
    "    \"PDF\": [\".pdf\"],\n",
    "    \"PYTHON\": [\".py\"]\n",
    "}\n",
    "\n",
    "d = {}\n",
    "\n",
    "for k,v in DIRECTORIES.items():\n",
    "    for i in v:\n",
    "        d[i] = k\n",
    "print(d)"
   ]
  },
  {
   "cell_type": "code",
   "execution_count": 50,
   "metadata": {},
   "outputs": [
    {
     "name": "stdout",
     "output_type": "stream",
     "text": [
      "{'.html5': 'HTML', '.html': 'HTML', '.htm': 'HTML', '.xhtml': 'HTML', '.txt': 'PLAINTEXT', '.in': 'PLAINTEXT', '.out': 'PLAINTEXT', '.pdf': 'PDF', '.py': 'PYTHON'}\n"
     ]
    }
   ],
   "source": [
    "DIRECTORIES = {\n",
    "    \"HTML\": [\".html5\", \".html\", \".htm\", \".xhtml\"],\n",
    "    \"PLAINTEXT\": [\".txt\", \".in\", \".out\"],\n",
    "    \"PDF\": [\".pdf\"],\n",
    "    \"PYTHON\": [\".py\"]\n",
    "}\n",
    "\n",
    "FILE_FORMATS = {file_format: directory\n",
    "                for directory, file_formats in DIRECTORIES.items()\n",
    "                for file_format in file_formats}\n",
    "\n",
    "print(FILE_FORMATS)"
   ]
  },
  {
   "cell_type": "code",
   "execution_count": null,
   "metadata": {},
   "outputs": [],
   "source": [
    "range"
   ]
  }
 ],
 "metadata": {
  "kernelspec": {
   "display_name": "Python 3",
   "language": "python",
   "name": "python3"
  },
  "language_info": {
   "codemirror_mode": {
    "name": "ipython",
    "version": 3
   },
   "file_extension": ".py",
   "mimetype": "text/x-python",
   "name": "python",
   "nbconvert_exporter": "python",
   "pygments_lexer": "ipython3",
   "version": "3.7.4"
  }
 },
 "nbformat": 4,
 "nbformat_minor": 2
}
