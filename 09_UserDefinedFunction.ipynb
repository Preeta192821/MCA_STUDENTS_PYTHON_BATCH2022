{
 "cells": [
  {
   "cell_type": "markdown",
   "metadata": {},
   "source": [
    "### User Defined Functions (UDF)\n",
    "\n",
    "#### Syntax\n",
    "\n",
    "def function_name(optional_arguments):\n",
    "\n",
    "    '''Optional Documentation String'''\n",
    "    \n",
    "    Body of the function\n",
    "    \n",
    "    \n",
    "* By default a function returns None until otherwise specified\n",
    "* There are 6 Types of UDF and one anonymous function:\n",
    "    * No arguments\n",
    "    * Required arguments\n",
    "    * Default arguments\n",
    "    * Keyword arguments\n",
    "    * Variable length arguments\n",
    "    * Keyowrd variable length arguments\n",
    "    * lambda -> anonymous function"
   ]
  },
  {
   "cell_type": "code",
   "execution_count": 2,
   "metadata": {},
   "outputs": [
    {
     "name": "stdout",
     "output_type": "stream",
     "text": [
      "Interactive namespace is empty.\n"
     ]
    }
   ],
   "source": [
    "%whos"
   ]
  },
  {
   "cell_type": "markdown",
   "metadata": {},
   "source": [
    "A namespace is a simple system to control the names in a program. It ensures that names are unique and won't lead to any conflict. Python implements namespaces in the form of dictionaries. It maintains a name-to-object mapping where names act as keys and the objects as values."
   ]
  },
  {
   "cell_type": "code",
   "execution_count": 3,
   "metadata": {},
   "outputs": [],
   "source": [
    "#1. No arguments\n",
    "\n",
    "def say_hello():\n",
    "    '''This function prints Hello back\n",
    "    to the user'''\n",
    "    \n",
    "    print(\"HELLO\")"
   ]
  },
  {
   "cell_type": "code",
   "execution_count": 4,
   "metadata": {},
   "outputs": [
    {
     "name": "stdout",
     "output_type": "stream",
     "text": [
      "Variable    Type        Data/Info\n",
      "---------------------------------\n",
      "say_hello   function    <function say_hello at 0x00000066BE7D3620>\n"
     ]
    }
   ],
   "source": [
    "%whos"
   ]
  },
  {
   "cell_type": "code",
   "execution_count": 5,
   "metadata": {},
   "outputs": [
    {
     "name": "stdout",
     "output_type": "stream",
     "text": [
      "Help on function say_hello in module __main__:\n",
      "\n",
      "say_hello()\n",
      "    This function prints Hello back\n",
      "    to the user\n",
      "\n"
     ]
    }
   ],
   "source": [
    "help(say_hello)"
   ]
  },
  {
   "cell_type": "code",
   "execution_count": 22,
   "metadata": {},
   "outputs": [
    {
     "name": "stdout",
     "output_type": "stream",
     "text": [
      "<class 'function'>\n",
      "HELLO\n",
      "None\n"
     ]
    }
   ],
   "source": [
    "#1. No arguments\n",
    "\n",
    "def say_hello():\n",
    "    '''This function prints Hello back\n",
    "    to the user'''\n",
    "    \n",
    "    print(\"HELLO\")\n",
    "    #return 10\n",
    "\n",
    "# In python everything is an object\n",
    "print(type(say_hello))\n",
    "a = say_hello()\n",
    "# Uncomment the return statement and the value will be stored in a\n",
    "print(a)"
   ]
  },
  {
   "cell_type": "code",
   "execution_count": 17,
   "metadata": {},
   "outputs": [
    {
     "name": "stdout",
     "output_type": "stream",
     "text": [
      "40\n",
      "50\n",
      "280\n"
     ]
    }
   ],
   "source": [
    "# 2. Required Arguments\n",
    "# Arguments are placed positionally\n",
    "\n",
    "def add(a,b):\n",
    "    return 2*a + 4*b\n",
    "\n",
    "x = add(10,5)\n",
    "print(x)\n",
    "y = add(5,10)\n",
    "print(y)\n",
    "print(add(x,y))\n",
    "# Below statement will give an error as function takes only 2 arguments\n",
    "# but three arguments were given\n",
    "#print(add(10,20,30))"
   ]
  },
  {
   "cell_type": "code",
   "execution_count": 19,
   "metadata": {},
   "outputs": [
    {
     "name": "stdout",
     "output_type": "stream",
     "text": [
      "Help on function add in module __main__:\n",
      "\n",
      "add(a, b)\n",
      "\n"
     ]
    }
   ],
   "source": [
    "# As no docstring was given so help on the function will not have any\n",
    "# documentation. It is a good practice to have docstring present in\n",
    "# you defined functions.\n",
    "help(add)"
   ]
  },
  {
   "cell_type": "code",
   "execution_count": 20,
   "metadata": {},
   "outputs": [
    {
     "name": "stdout",
     "output_type": "stream",
     "text": [
      "<class 'function'>\n",
      "15\n",
      "9\n",
      "16\n"
     ]
    }
   ],
   "source": [
    "#3. Default arguments\n",
    "\n",
    "def add(a,b=10):\n",
    "    print(a+b)\n",
    "add(5)\n",
    "add(5,4)\n",
    "add(6)"
   ]
  },
  {
   "cell_type": "code",
   "execution_count": 24,
   "metadata": {},
   "outputs": [
    {
     "name": "stdout",
     "output_type": "stream",
     "text": [
      "40\n",
      "30\n"
     ]
    }
   ],
   "source": [
    "#4. Keyword arguments\n",
    "\n",
    "def add(a,b):\n",
    "    print(2*a+b)\n",
    "    \n",
    "add(10,20)\n",
    "add(b=10,a = 10)"
   ]
  },
  {
   "cell_type": "code",
   "execution_count": 26,
   "metadata": {},
   "outputs": [
    {
     "name": "stdout",
     "output_type": "stream",
     "text": [
      "Hi Billy Butcher how are you?\n",
      "Hi Butcher Billy how are you?\n"
     ]
    }
   ],
   "source": [
    "# Keyword arguments\n",
    "#4. Keyword arguments\n",
    "\n",
    "def name(first,last):\n",
    "    print(\"Hi {} {} how are you?\".format(first,last))\n",
    "    \n",
    "name('Billy','Butcher')\n",
    "name(last='Billy',first='Butcher')"
   ]
  },
  {
   "cell_type": "code",
   "execution_count": 27,
   "metadata": {},
   "outputs": [
    {
     "name": "stdout",
     "output_type": "stream",
     "text": [
      "(10, 20, 30) <class 'tuple'>\n",
      "(10, 20) <class 'tuple'>\n",
      "() <class 'tuple'>\n"
     ]
    }
   ],
   "source": [
    "#5 . Varaible length arguments\n",
    "\n",
    "def func(*x):\n",
    "    print(x,type(x))\n",
    "    \n",
    "func(10,20,30)\n",
    "func(10,20)\n",
    "func()"
   ]
  },
  {
   "cell_type": "code",
   "execution_count": 28,
   "metadata": {},
   "outputs": [
    {
     "name": "stdout",
     "output_type": "stream",
     "text": [
      "(10, 20, 30)\n",
      "60\n",
      "(10, 20, 30, 40, 50)\n",
      "150\n",
      "()\n",
      "0\n"
     ]
    }
   ],
   "source": [
    "def own_sum(*x):\n",
    "    print(x)\n",
    "    return sum(x)\n",
    "\n",
    "print(own_sum(10,20,30))\n",
    "print(own_sum(10,20,30,40,50))\n",
    "print(own_sum())"
   ]
  },
  {
   "cell_type": "code",
   "execution_count": 29,
   "metadata": {},
   "outputs": [
    {
     "name": "stdout",
     "output_type": "stream",
     "text": [
      "{'a': 10, 'b': 20, 'c': 40}\n",
      "{'a': 10}\n",
      "{}\n"
     ]
    }
   ],
   "source": [
    "#6. Keyword variable arguments\n",
    "\n",
    "def func(**x):\n",
    "    print(x)\n",
    "    \n",
    "func(a=10,b=20,c=40)\n",
    "func(a=10)\n",
    "func()"
   ]
  },
  {
   "cell_type": "markdown",
   "metadata": {},
   "source": [
    "### General Definition of Function"
   ]
  },
  {
   "cell_type": "code",
   "execution_count": 30,
   "metadata": {},
   "outputs": [
    {
     "name": "stdout",
     "output_type": "stream",
     "text": [
      "(10, 20, 30) {}\n",
      "() {'a': 10, 'b': 20}\n",
      "(10, 20, 30) {'a': 10, 'b': 20}\n"
     ]
    }
   ],
   "source": [
    "def func(*args,**kwargs):\n",
    "    print(args,kwargs)\n",
    "    \n",
    "func(10,20,30)\n",
    "func(a=10,b=20)\n",
    "func(10,20,30,a=10,b=20)"
   ]
  },
  {
   "cell_type": "markdown",
   "metadata": {},
   "source": [
    "### Question\n",
    "\n",
    "Write a function to calculate factorial of a number\n",
    "* Example 4! = 4*3*2*1 = 1*2*3*4"
   ]
  },
  {
   "cell_type": "code",
   "execution_count": 31,
   "metadata": {},
   "outputs": [
    {
     "name": "stdout",
     "output_type": "stream",
     "text": [
      "24\n",
      "120\n"
     ]
    }
   ],
   "source": [
    "def factorial(n):\n",
    "    m = 1\n",
    "    for i in range(1,n+1):\n",
    "        m *= i\n",
    "    return m\n",
    "\n",
    "print(factorial(4))\n",
    "print(factorial(5))"
   ]
  },
  {
   "cell_type": "code",
   "execution_count": 32,
   "metadata": {},
   "outputs": [
    {
     "name": "stdout",
     "output_type": "stream",
     "text": [
      "24\n",
      "120\n"
     ]
    }
   ],
   "source": [
    "def factorial(n):\n",
    "    m = 1\n",
    "    for i in range(n,0,-1):\n",
    "        m *= i\n",
    "    return m\n",
    "\n",
    "print(factorial(4))\n",
    "print(factorial(5))"
   ]
  },
  {
   "cell_type": "markdown",
   "metadata": {},
   "source": [
    "### Question\n",
    "\n",
    "Write a function to check if a number is a prime number or not. Return True if number is Prime else return False"
   ]
  },
  {
   "cell_type": "code",
   "execution_count": 35,
   "metadata": {},
   "outputs": [
    {
     "name": "stdout",
     "output_type": "stream",
     "text": [
      "True\n",
      "False\n"
     ]
    }
   ],
   "source": [
    "def isprime(n):\n",
    "    for i in range(2,n//2 + 1):\n",
    "        if n%i == 0:\n",
    "            return False\n",
    "    return True\n",
    "\n",
    "print(isprime(23))\n",
    "print(isprime(12))"
   ]
  },
  {
   "cell_type": "markdown",
   "metadata": {},
   "source": [
    "### Question\n",
    "\n",
    "Write a Function to return a list of all prime numbers between a given range"
   ]
  },
  {
   "cell_type": "code",
   "execution_count": 36,
   "metadata": {},
   "outputs": [
    {
     "name": "stdout",
     "output_type": "stream",
     "text": [
      "[2, 3, 5, 7]\n",
      "[2, 3, 5, 7, 11, 13, 17, 19]\n"
     ]
    }
   ],
   "source": [
    "def allprime(low,high):\n",
    "    primes = []\n",
    "    for n in range(low,high+1):\n",
    "        for i in range(2,n//2 +1):\n",
    "            if n%i == 0:\n",
    "                break\n",
    "        else:\n",
    "            primes.append(n)\n",
    "    return primes\n",
    "\n",
    "print(allprime(2,10))\n",
    "print(allprime(2,20))"
   ]
  },
  {
   "cell_type": "code",
   "execution_count": 37,
   "metadata": {},
   "outputs": [
    {
     "name": "stdout",
     "output_type": "stream",
     "text": [
      "[2, 3, 5, 7]\n",
      "[2, 3, 5, 7, 11, 13, 17, 19]\n"
     ]
    }
   ],
   "source": [
    "def isprime(n):\n",
    "    for i in range(2,n//2 + 1):\n",
    "        if n%i == 0:\n",
    "            return False\n",
    "    return True\n",
    "\n",
    "def allprime(low,high):\n",
    "    primes = []\n",
    "    for n in range(low,high+1):\n",
    "        if isprime(n):\n",
    "            primes.append(n)\n",
    "    return primes\n",
    "\n",
    "print(allprime(2,10))\n",
    "print(allprime(2,20))"
   ]
  },
  {
   "cell_type": "markdown",
   "metadata": {},
   "source": [
    "## Scope of a function"
   ]
  },
  {
   "cell_type": "code",
   "execution_count": 41,
   "metadata": {},
   "outputs": [
    {
     "name": "stdout",
     "output_type": "stream",
     "text": [
      "10\n",
      "100\n",
      "10\n"
     ]
    },
    {
     "ename": "NameError",
     "evalue": "name 'xx' is not defined",
     "output_type": "error",
     "traceback": [
      "\u001b[1;31m---------------------------------------------------------------------------\u001b[0m",
      "\u001b[1;31mNameError\u001b[0m                                 Traceback (most recent call last)",
      "\u001b[1;32m<ipython-input-41-257b8ede3e47>\u001b[0m in \u001b[0;36m<module>\u001b[1;34m\u001b[0m\n\u001b[0;32m     12\u001b[0m \u001b[1;31m# Below statement will give an error as x is defined in the scope of\u001b[0m\u001b[1;33m\u001b[0m\u001b[1;33m\u001b[0m\u001b[1;33m\u001b[0m\u001b[0m\n\u001b[0;32m     13\u001b[0m \u001b[1;31m# the function which is not in global scope\u001b[0m\u001b[1;33m\u001b[0m\u001b[1;33m\u001b[0m\u001b[1;33m\u001b[0m\u001b[0m\n\u001b[1;32m---> 14\u001b[1;33m \u001b[0mprint\u001b[0m\u001b[1;33m(\u001b[0m\u001b[0mxx\u001b[0m\u001b[1;33m)\u001b[0m\u001b[1;33m\u001b[0m\u001b[1;33m\u001b[0m\u001b[0m\n\u001b[0m",
      "\u001b[1;31mNameError\u001b[0m: name 'xx' is not defined"
     ]
    }
   ],
   "source": [
    "a = 10\n",
    "b = 30\n",
    "\n",
    "def func():\n",
    "    a = 50\n",
    "    xx = 20\n",
    "    print(a+b+xx)\n",
    "    \n",
    "print(a)\n",
    "func()\n",
    "print(a)\n",
    "# Below statement will give an error as x is defined in the scope of\n",
    "# the function which is not in global scope\n",
    "print(xx)"
   ]
  },
  {
   "cell_type": "code",
   "execution_count": 42,
   "metadata": {},
   "outputs": [
    {
     "name": "stdout",
     "output_type": "stream",
     "text": [
      "10\n",
      "100\n",
      "50\n",
      "20\n"
     ]
    }
   ],
   "source": [
    "a = 10\n",
    "b = 30\n",
    "\n",
    "def func():\n",
    "    global a,xx\n",
    "    a = 50\n",
    "    xx = 20\n",
    "    print(a+b+xx)\n",
    "    \n",
    "print(a)\n",
    "func()\n",
    "print(a)\n",
    "print(xx)"
   ]
  },
  {
   "cell_type": "code",
   "execution_count": 43,
   "metadata": {},
   "outputs": [
    {
     "name": "stdout",
     "output_type": "stream",
     "text": [
      "['white', 'blue', 'green', 'yellow']\n"
     ]
    }
   ],
   "source": [
    "import random\n",
    "\n",
    "colors = [\"yellow\", \"blue\", \"orange\", \"green\", \"red\", \"white\"]\n",
    "secret_code = []\n",
    "\n",
    "def generate_secret_code():\n",
    "    global secret_code\n",
    "    a = colors.copy()\n",
    "    random.shuffle(a)\n",
    "    secret_code = a[:4]\n",
    "    \n",
    "generate_secret_code()\n",
    "print(secret_code)"
   ]
  },
  {
   "cell_type": "markdown",
   "metadata": {},
   "source": [
    "## Lambda Function -> Anonymous Function\n",
    "\n",
    "##### Syntax\n",
    "\n",
    "lambda arguments: Expression\n",
    "\n",
    "Note: Restart kernel once before running below blocks"
   ]
  },
  {
   "cell_type": "code",
   "execution_count": 1,
   "metadata": {},
   "outputs": [
    {
     "name": "stdout",
     "output_type": "stream",
     "text": [
      "15\n",
      "15\n"
     ]
    }
   ],
   "source": [
    "def add(a,b):\n",
    "    return a+b\n",
    "print(add(10,5))\n",
    "\n",
    "add = lambda a,b:a+b\n",
    "print(add(10,5))"
   ]
  },
  {
   "cell_type": "code",
   "execution_count": 2,
   "metadata": {},
   "outputs": [
    {
     "name": "stdout",
     "output_type": "stream",
     "text": [
      "Variable   Type        Data/Info\n",
      "--------------------------------\n",
      "add        function    <function <lambda> at 0x000000EA9BB027B8>\n"
     ]
    }
   ],
   "source": [
    "%whos"
   ]
  },
  {
   "cell_type": "markdown",
   "metadata": {},
   "source": [
    "### Adding two lists mathematically"
   ]
  },
  {
   "cell_type": "code",
   "execution_count": 5,
   "metadata": {},
   "outputs": [
    {
     "name": "stdout",
     "output_type": "stream",
     "text": [
      "[1, 2, 3] + [4, 5, 6] = [5, 7, 9]\n"
     ]
    }
   ],
   "source": [
    "# 1st Way\n",
    "a = [1,2,3]\n",
    "b = [4,5,6]\n",
    "\n",
    "c = []\n",
    "n = min(len(a),len(b))\n",
    "for i in range(n):\n",
    "    c.append(a[i]+b[i])\n",
    "print(\"{} + {} = {}\".format(a,b,c))"
   ]
  },
  {
   "cell_type": "code",
   "execution_count": 7,
   "metadata": {},
   "outputs": [
    {
     "name": "stdout",
     "output_type": "stream",
     "text": [
      "[1, 2, 3] + [4, 5, 6] = [5, 7, 9]\n"
     ]
    }
   ],
   "source": [
    "# 2nd Way\n",
    "a = [1,2,3]\n",
    "b = [4,5,6]\n",
    "\n",
    "#c = list(zip(a,b))\n",
    "#print(c)\n",
    "#for x,y in c:\n",
    "#    print(x+y)\n",
    "c = [x+y for x,y in zip(a,b)]\n",
    "print(\"{} + {} = {}\".format(a,b,c))"
   ]
  },
  {
   "cell_type": "code",
   "execution_count": 2,
   "metadata": {},
   "outputs": [
    {
     "name": "stdout",
     "output_type": "stream",
     "text": [
      "[5, 7, 9]\n"
     ]
    }
   ],
   "source": [
    "# 3rd Way - > Using Map function\n",
    "# Restart Kernel Before running this block\n",
    "a = [1,2,3]\n",
    "b = [4,5,6]\n",
    "\n",
    "def add(x,y):\n",
    "    return x+y\n",
    "\n",
    "c = list(map(add,a,b))\n",
    "print(c)"
   ]
  },
  {
   "cell_type": "code",
   "execution_count": 3,
   "metadata": {},
   "outputs": [
    {
     "name": "stdout",
     "output_type": "stream",
     "text": [
      "Variable   Type        Data/Info\n",
      "--------------------------------\n",
      "a          list        n=3\n",
      "add        function    <function add at 0x00000058A3A742F0>\n",
      "b          list        n=3\n",
      "c          list        n=3\n"
     ]
    }
   ],
   "source": [
    "%whos"
   ]
  },
  {
   "cell_type": "code",
   "execution_count": 1,
   "metadata": {},
   "outputs": [
    {
     "name": "stdout",
     "output_type": "stream",
     "text": [
      "[5, 7, 9]\n"
     ]
    }
   ],
   "source": [
    "# 3rd Way - > Using Map function and lambda\n",
    "# Restart Kernel Before running this block\n",
    "a = [1,2,3]\n",
    "b = [4,5,6]\n",
    "\n",
    "c = list(map(lambda x,y:x+y,a,b))\n",
    "print(c)"
   ]
  },
  {
   "cell_type": "code",
   "execution_count": 2,
   "metadata": {},
   "outputs": [
    {
     "name": "stdout",
     "output_type": "stream",
     "text": [
      "Variable   Type    Data/Info\n",
      "----------------------------\n",
      "a          list    n=3\n",
      "b          list    n=3\n",
      "c          list    n=3\n"
     ]
    }
   ],
   "source": [
    "%whos"
   ]
  },
  {
   "cell_type": "markdown",
   "metadata": {},
   "source": [
    "### Filter Function"
   ]
  },
  {
   "cell_type": "code",
   "execution_count": 3,
   "metadata": {},
   "outputs": [
    {
     "name": "stdout",
     "output_type": "stream",
     "text": [
      "Help on class filter in module builtins:\n",
      "\n",
      "class filter(object)\n",
      " |  filter(function or None, iterable) --> filter object\n",
      " |  \n",
      " |  Return an iterator yielding those items of iterable for which function(item)\n",
      " |  is true. If function is None, return the items that are true.\n",
      " |  \n",
      " |  Methods defined here:\n",
      " |  \n",
      " |  __getattribute__(self, name, /)\n",
      " |      Return getattr(self, name).\n",
      " |  \n",
      " |  __iter__(self, /)\n",
      " |      Implement iter(self).\n",
      " |  \n",
      " |  __next__(self, /)\n",
      " |      Implement next(self).\n",
      " |  \n",
      " |  __reduce__(...)\n",
      " |      Return state information for pickling.\n",
      " |  \n",
      " |  ----------------------------------------------------------------------\n",
      " |  Static methods defined here:\n",
      " |  \n",
      " |  __new__(*args, **kwargs) from builtins.type\n",
      " |      Create and return a new object.  See help(type) for accurate signature.\n",
      "\n"
     ]
    }
   ],
   "source": [
    "help(filter)"
   ]
  },
  {
   "cell_type": "code",
   "execution_count": 5,
   "metadata": {},
   "outputs": [
    {
     "name": "stdout",
     "output_type": "stream",
     "text": [
      "[False, False, False, False, False, True, False, False]\n",
      "[6]\n"
     ]
    }
   ],
   "source": [
    "a = [1,2,3,4,5,6,7,8]\n",
    "\n",
    "def func(x):\n",
    "    if x%2 == 0 and x%3 == 0:\n",
    "        return True\n",
    "    else:\n",
    "        return False\n",
    "    \n",
    "b = list(map(func,a))\n",
    "print(b)\n",
    "c = list(filter(func,a))\n",
    "print(c)"
   ]
  },
  {
   "cell_type": "code",
   "execution_count": 6,
   "metadata": {},
   "outputs": [
    {
     "name": "stdout",
     "output_type": "stream",
     "text": [
      "[0, 0, 0, 0, 0, 1, 0, 0]\n",
      "[6]\n"
     ]
    }
   ],
   "source": [
    "a = [1,2,3,4,5,6,7,8]\n",
    "\n",
    "def func(x):\n",
    "    if x%2 == 0 and x%3 == 0:\n",
    "        return 1\n",
    "    else:\n",
    "        return 0\n",
    "    \n",
    "b = list(map(func,a))\n",
    "print(b)\n",
    "c = list(filter(func,a))\n",
    "print(c)"
   ]
  },
  {
   "cell_type": "code",
   "execution_count": 7,
   "metadata": {},
   "outputs": [
    {
     "name": "stdout",
     "output_type": "stream",
     "text": [
      "[6]\n"
     ]
    }
   ],
   "source": [
    "# basic implementation of filter function\n",
    "\n",
    "def own_filter(func,iterable):\n",
    "    result = []\n",
    "    for i in iterable:\n",
    "        if func(i):\n",
    "            result.append(i)\n",
    "    return result\n",
    "\n",
    "def func(x):\n",
    "    if x%2 == 0 and x%3 == 0:\n",
    "        return 1\n",
    "    else:\n",
    "        return 0\n",
    "a = [1,2,3,4,5,6,7,8]    \n",
    "b = own_filter(func,a)\n",
    "print(b)"
   ]
  },
  {
   "cell_type": "code",
   "execution_count": 11,
   "metadata": {},
   "outputs": [
    {
     "name": "stdout",
     "output_type": "stream",
     "text": [
      "[1, 2, 3, 4, 5, 6, 7, 8]\n",
      "[False, False, False, False, False, True, False, False]\n",
      "[6]\n"
     ]
    }
   ],
   "source": [
    "a = [1,2,3,4,5,6,7,8] \n",
    "print(a)\n",
    "\n",
    "b = list(map(lambda x:x%2 == 0 and x%3 == 0,a))\n",
    "print(b)\n",
    "c = list(filter(lambda x:x%2 == 0 and x%3 == 0,a))\n",
    "print(c)"
   ]
  },
  {
   "cell_type": "code",
   "execution_count": 1,
   "metadata": {},
   "outputs": [
    {
     "name": "stdout",
     "output_type": "stream",
     "text": [
      "[1, 2, 3, 4, 5]\n",
      "[2, 3, 4, 5, 6]\n",
      "[2, 3, 4, 5, 6]\n"
     ]
    }
   ],
   "source": [
    "a = [1,2,3,4,5]\n",
    "print(a)\n",
    "def func(x):\n",
    "    return x+1\n",
    "\n",
    "b = list(map(func,a))\n",
    "print(b)\n",
    "\n",
    "c = list(map(lambda x:x+1,a))\n",
    "print(c)"
   ]
  },
  {
   "cell_type": "code",
   "execution_count": 2,
   "metadata": {},
   "outputs": [
    {
     "name": "stdout",
     "output_type": "stream",
     "text": [
      "15\n"
     ]
    }
   ],
   "source": [
    "a = lambda x: x*10 if x<2 else (x**2 if x<4 else x+10)\n",
    "\n",
    "print(a(5))"
   ]
  },
  {
   "cell_type": "code",
   "execution_count": 3,
   "metadata": {},
   "outputs": [
    {
     "name": "stdout",
     "output_type": "stream",
     "text": [
      "[1, 2, 3, 4, 5, 6]\n",
      "[10, 4, 9, 14, 15, 16]\n"
     ]
    }
   ],
   "source": [
    "a = [1,2,3,4,5,6]\n",
    "print(a)\n",
    "b = list(map(lambda x: x*10 if x<2 else (x**2 if x<4 else x+10),a))\n",
    "print(b)"
   ]
  },
  {
   "cell_type": "markdown",
   "metadata": {},
   "source": [
    "### Question\n",
    "\n",
    "Write a function which returns n terms of the fibonacci series in form of a list and then using map function display the list of the series with its numbers cubed"
   ]
  },
  {
   "cell_type": "code",
   "execution_count": 12,
   "metadata": {},
   "outputs": [
    {
     "name": "stdout",
     "output_type": "stream",
     "text": [
      "[0, 1, 1, 2, 3]\n",
      "[0, 1, 1, 8, 27]\n"
     ]
    }
   ],
   "source": [
    "def fib(n):\n",
    "    a,b = 0,1\n",
    "    c = []\n",
    "    for i in range(n):\n",
    "        c.append(a)\n",
    "        a,b = b,a+b\n",
    "    return c\n",
    "\n",
    "f = fib(5)\n",
    "print(f)\n",
    "x = list(map(lambda x:x**3,f))\n",
    "print(x)"
   ]
  },
  {
   "cell_type": "markdown",
   "metadata": {},
   "source": [
    "## Recursive function\n",
    "\n",
    "Function calls itself"
   ]
  },
  {
   "cell_type": "code",
   "execution_count": 14,
   "metadata": {},
   "outputs": [
    {
     "name": "stdout",
     "output_type": "stream",
     "text": [
      "24\n"
     ]
    }
   ],
   "source": [
    "def fact_r(n):\n",
    "    if n<0:\n",
    "        return \"Invalid number\"\n",
    "    elif n ==1 or n == 0:\n",
    "        return 1\n",
    "    else:\n",
    "        return n* fact_r(n-1)\n",
    "print(fact_r(4))"
   ]
  },
  {
   "cell_type": "code",
   "execution_count": 16,
   "metadata": {},
   "outputs": [
    {
     "name": "stdout",
     "output_type": "stream",
     "text": [
      "3\n"
     ]
    }
   ],
   "source": [
    "#Finding the nth term in the fibonacci series\n",
    "\n",
    "def fib(n):\n",
    "    a,b = 0,1\n",
    "    for i in range(n-1):\n",
    "        a,b=b,a+b\n",
    "    return a\n",
    "\n",
    "print(fib(5))"
   ]
  },
  {
   "cell_type": "code",
   "execution_count": 18,
   "metadata": {},
   "outputs": [
    {
     "name": "stdout",
     "output_type": "stream",
     "text": [
      "3\n"
     ]
    }
   ],
   "source": [
    "#finding the nth term in the fibonacci series recursively\n",
    "def fibr(n):\n",
    "    \n",
    "    if n<=0:\n",
    "        return \"Invalid argument\"\n",
    "    elif n == 1:\n",
    "        return 0\n",
    "    elif n == 2:\n",
    "        return 1\n",
    "    else:\n",
    "        return fibr(n-2) + fibr(n-1)\n",
    "    \n",
    "print(fibr(5))"
   ]
  },
  {
   "cell_type": "markdown",
   "metadata": {},
   "source": [
    "## Question\n",
    "\n",
    "Write a function which takes a  integer list and a target number as input and gives the following output:\n",
    "\n",
    "1. Returns True if sum of any two numbers in the list is equal to the target number Otherwise False\n",
    "\n",
    "2. Returns a list of tuple where each tule constitutes of two numbers from the list whose sume is eqult to target"
   ]
  },
  {
   "cell_type": "code",
   "execution_count": 20,
   "metadata": {},
   "outputs": [
    {
     "name": "stdout",
     "output_type": "stream",
     "text": [
      "True\n",
      "False\n"
     ]
    }
   ],
   "source": [
    "def func(Lst,target):\n",
    "    for i in Lst:\n",
    "        n = target - i\n",
    "        if n == i and Lst.count(i) == 1:\n",
    "            continue\n",
    "        if n in Lst:\n",
    "            return True\n",
    "    return False\n",
    "\n",
    "print(func([1,2,3,4,5],6))\n",
    "print(func([1,3,2],6))"
   ]
  },
  {
   "cell_type": "code",
   "execution_count": 22,
   "metadata": {},
   "outputs": [
    {
     "name": "stdout",
     "output_type": "stream",
     "text": [
      "[(1, 5), (2, 4), (4, 2), (5, 1)]\n",
      "[(3, 3), (3, 3)]\n"
     ]
    }
   ],
   "source": [
    "def func(Lst,target):\n",
    "    x = []\n",
    "    for i in Lst:\n",
    "        n = target - i\n",
    "        if n == i and Lst.count(i) == 1:\n",
    "            continue\n",
    "        if n in Lst:\n",
    "            x.append((i,n))\n",
    "    return x\n",
    "\n",
    "print(func([1,2,3,4,5],6))\n",
    "print(func([1,3,2,3],6))"
   ]
  },
  {
   "cell_type": "code",
   "execution_count": 21,
   "metadata": {},
   "outputs": [
    {
     "name": "stdout",
     "output_type": "stream",
     "text": [
      "True\n",
      "False\n"
     ]
    }
   ],
   "source": [
    "def func(Lst,target):\n",
    "    seen = set()\n",
    "    for i in Lst:\n",
    "        n = target - i\n",
    "        if n in seen:\n",
    "            return True\n",
    "        seen.add(i)\n",
    "    return False\n",
    "\n",
    "print(func([1,2,3,4,5],6))\n",
    "print(func([1,3,2],6))"
   ]
  },
  {
   "cell_type": "code",
   "execution_count": 25,
   "metadata": {},
   "outputs": [
    {
     "name": "stdout",
     "output_type": "stream",
     "text": [
      "[(4, 2), (5, 1)]\n",
      "[(3, 3)]\n"
     ]
    }
   ],
   "source": [
    "def func(Lst,target):\n",
    "    x = []\n",
    "    seen = set()\n",
    "    for i in Lst:\n",
    "        n = target - i\n",
    "        if n in seen:\n",
    "            x.append((i,n))\n",
    "        seen.add(i)\n",
    "    return x\n",
    "\n",
    "print(func([1,2,3,4,5],6))\n",
    "print(func([1,3,2,3],6))"
   ]
  },
  {
   "cell_type": "code",
   "execution_count": null,
   "metadata": {},
   "outputs": [],
   "source": []
  }
 ],
 "metadata": {
  "kernelspec": {
   "display_name": "Python 3",
   "language": "python",
   "name": "python3"
  },
  "language_info": {
   "codemirror_mode": {
    "name": "ipython",
    "version": 3
   },
   "file_extension": ".py",
   "mimetype": "text/x-python",
   "name": "python",
   "nbconvert_exporter": "python",
   "pygments_lexer": "ipython3",
   "version": "3.7.4"
  }
 },
 "nbformat": 4,
 "nbformat_minor": 2
}
